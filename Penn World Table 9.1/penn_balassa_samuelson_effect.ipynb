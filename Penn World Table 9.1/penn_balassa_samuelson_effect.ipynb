{
 "cells": [
  {
   "cell_type": "code",
   "execution_count": 34,
   "metadata": {},
   "outputs": [
    {
     "data": {
      "text/html": [
       "<div>\n",
       "<style scoped>\n",
       "    .dataframe tbody tr th:only-of-type {\n",
       "        vertical-align: middle;\n",
       "    }\n",
       "\n",
       "    .dataframe tbody tr th {\n",
       "        vertical-align: top;\n",
       "    }\n",
       "\n",
       "    .dataframe thead th {\n",
       "        text-align: right;\n",
       "    }\n",
       "</style>\n",
       "<table border=\"1\" class=\"dataframe\">\n",
       "  <thead>\n",
       "    <tr style=\"text-align: right;\">\n",
       "      <th></th>\n",
       "      <th>countrycode</th>\n",
       "      <th>country</th>\n",
       "      <th>currency_unit</th>\n",
       "      <th>year</th>\n",
       "      <th>rgdpe</th>\n",
       "      <th>rgdpo</th>\n",
       "      <th>pop</th>\n",
       "      <th>emp</th>\n",
       "      <th>avh</th>\n",
       "      <th>hc</th>\n",
       "      <th>...</th>\n",
       "      <th>pl_c</th>\n",
       "      <th>pl_i</th>\n",
       "      <th>pl_g</th>\n",
       "      <th>pl_x</th>\n",
       "      <th>pl_m</th>\n",
       "      <th>pl_n</th>\n",
       "      <th>pl_k</th>\n",
       "      <th>gdppc</th>\n",
       "      <th>cons</th>\n",
       "      <th>prod</th>\n",
       "    </tr>\n",
       "  </thead>\n",
       "  <tbody>\n",
       "    <tr>\n",
       "      <th>407</th>\n",
       "      <td>ARG</td>\n",
       "      <td>Argentina</td>\n",
       "      <td>Argentine Peso</td>\n",
       "      <td>2017</td>\n",
       "      <td>7.424861e+05</td>\n",
       "      <td>7.289994e+05</td>\n",
       "      <td>44.271042</td>\n",
       "      <td>19.814985</td>\n",
       "      <td>1691.536255</td>\n",
       "      <td>3.035439</td>\n",
       "      <td>...</td>\n",
       "      <td>0.787924</td>\n",
       "      <td>1.064745</td>\n",
       "      <td>1.029326</td>\n",
       "      <td>0.662490</td>\n",
       "      <td>0.653455</td>\n",
       "      <td>0.633551</td>\n",
       "      <td>1.296539</td>\n",
       "      <td>16466.732422</td>\n",
       "      <td>14498.951172</td>\n",
       "      <td>21.749641</td>\n",
       "    </tr>\n",
       "    <tr>\n",
       "      <th>611</th>\n",
       "      <td>AUS</td>\n",
       "      <td>Australia</td>\n",
       "      <td>Australian Dollar</td>\n",
       "      <td>2017</td>\n",
       "      <td>1.177098e+06</td>\n",
       "      <td>1.158776e+06</td>\n",
       "      <td>24.450562</td>\n",
       "      <td>12.259081</td>\n",
       "      <td>1731.494263</td>\n",
       "      <td>3.522481</td>\n",
       "      <td>...</td>\n",
       "      <td>1.177875</td>\n",
       "      <td>1.192608</td>\n",
       "      <td>1.412565</td>\n",
       "      <td>0.640129</td>\n",
       "      <td>0.689741</td>\n",
       "      <td>1.057235</td>\n",
       "      <td>0.898940</td>\n",
       "      <td>47392.625000</td>\n",
       "      <td>35314.972656</td>\n",
       "      <td>54.590946</td>\n",
       "    </tr>\n",
       "    <tr>\n",
       "      <th>679</th>\n",
       "      <td>AUT</td>\n",
       "      <td>Austria</td>\n",
       "      <td>Euro</td>\n",
       "      <td>2017</td>\n",
       "      <td>4.500890e+05</td>\n",
       "      <td>4.027329e+05</td>\n",
       "      <td>8.735453</td>\n",
       "      <td>4.346900</td>\n",
       "      <td>1613.051880</td>\n",
       "      <td>3.358983</td>\n",
       "      <td>...</td>\n",
       "      <td>0.910282</td>\n",
       "      <td>0.835754</td>\n",
       "      <td>1.284974</td>\n",
       "      <td>0.703773</td>\n",
       "      <td>0.641590</td>\n",
       "      <td>0.705502</td>\n",
       "      <td>0.632267</td>\n",
       "      <td>46103.269531</td>\n",
       "      <td>34516.828125</td>\n",
       "      <td>57.436657</td>\n",
       "    </tr>\n",
       "    <tr>\n",
       "      <th>883</th>\n",
       "      <td>BEL</td>\n",
       "      <td>Belgium</td>\n",
       "      <td>Euro</td>\n",
       "      <td>2017</td>\n",
       "      <td>5.317196e+05</td>\n",
       "      <td>4.382108e+05</td>\n",
       "      <td>11.429336</td>\n",
       "      <td>4.757217</td>\n",
       "      <td>1544.269043</td>\n",
       "      <td>3.136449</td>\n",
       "      <td>...</td>\n",
       "      <td>0.923156</td>\n",
       "      <td>0.789507</td>\n",
       "      <td>1.293465</td>\n",
       "      <td>0.701457</td>\n",
       "      <td>0.648746</td>\n",
       "      <td>0.640535</td>\n",
       "      <td>0.586094</td>\n",
       "      <td>38340.886719</td>\n",
       "      <td>31699.187500</td>\n",
       "      <td>59.649551</td>\n",
       "    </tr>\n",
       "    <tr>\n",
       "      <th>1087</th>\n",
       "      <td>BGD</td>\n",
       "      <td>Bangladesh</td>\n",
       "      <td>Taka</td>\n",
       "      <td>2017</td>\n",
       "      <td>5.689508e+05</td>\n",
       "      <td>5.658139e+05</td>\n",
       "      <td>164.669754</td>\n",
       "      <td>63.779919</td>\n",
       "      <td>2232.354248</td>\n",
       "      <td>2.048752</td>\n",
       "      <td>...</td>\n",
       "      <td>0.426683</td>\n",
       "      <td>0.509377</td>\n",
       "      <td>0.378525</td>\n",
       "      <td>0.656377</td>\n",
       "      <td>0.633446</td>\n",
       "      <td>0.284944</td>\n",
       "      <td>NaN</td>\n",
       "      <td>3436.052490</td>\n",
       "      <td>2637.138916</td>\n",
       "      <td>3.973988</td>\n",
       "    </tr>\n",
       "  </tbody>\n",
       "</table>\n",
       "<p>5 rows × 55 columns</p>\n",
       "</div>"
      ],
      "text/plain": [
       "     countrycode     country      currency_unit  year         rgdpe  \\\n",
       "407          ARG   Argentina     Argentine Peso  2017  7.424861e+05   \n",
       "611          AUS   Australia  Australian Dollar  2017  1.177098e+06   \n",
       "679          AUT     Austria               Euro  2017  4.500890e+05   \n",
       "883          BEL     Belgium               Euro  2017  5.317196e+05   \n",
       "1087         BGD  Bangladesh               Taka  2017  5.689508e+05   \n",
       "\n",
       "             rgdpo         pop        emp          avh        hc  ...  \\\n",
       "407   7.289994e+05   44.271042  19.814985  1691.536255  3.035439  ...   \n",
       "611   1.158776e+06   24.450562  12.259081  1731.494263  3.522481  ...   \n",
       "679   4.027329e+05    8.735453   4.346900  1613.051880  3.358983  ...   \n",
       "883   4.382108e+05   11.429336   4.757217  1544.269043  3.136449  ...   \n",
       "1087  5.658139e+05  164.669754  63.779919  2232.354248  2.048752  ...   \n",
       "\n",
       "          pl_c      pl_i      pl_g      pl_x      pl_m      pl_n      pl_k  \\\n",
       "407   0.787924  1.064745  1.029326  0.662490  0.653455  0.633551  1.296539   \n",
       "611   1.177875  1.192608  1.412565  0.640129  0.689741  1.057235  0.898940   \n",
       "679   0.910282  0.835754  1.284974  0.703773  0.641590  0.705502  0.632267   \n",
       "883   0.923156  0.789507  1.293465  0.701457  0.648746  0.640535  0.586094   \n",
       "1087  0.426683  0.509377  0.378525  0.656377  0.633446  0.284944       NaN   \n",
       "\n",
       "             gdppc          cons       prod  \n",
       "407   16466.732422  14498.951172  21.749641  \n",
       "611   47392.625000  35314.972656  54.590946  \n",
       "679   46103.269531  34516.828125  57.436657  \n",
       "883   38340.886719  31699.187500  59.649551  \n",
       "1087   3436.052490   2637.138916   3.973988  \n",
       "\n",
       "[5 rows x 55 columns]"
      ]
     },
     "execution_count": 34,
     "metadata": {},
     "output_type": "execute_result"
    }
   ],
   "source": [
    "%matplotlib inline\n",
    "from matplotlib import pyplot as plt\n",
    "import numpy as np\n",
    "import pandas as pd\n",
    "import seaborn as sns; sns.set()\n",
    "\n",
    "df = pd.read_stata('pwt91.dta')\n",
    "\n",
    "df = df[df['year']==2017]\n",
    "\n",
    "df['gdppc'] = df['rgdpo']/df['pop']\n",
    "df['cons'] = df['ccon']/df['pop']\n",
    "df['prod'] = df['rgdpo']/(df['avh']*df['emp'])\n",
    "\n",
    "df.dropna(subset=['prod','gdppc'],inplace=True)\n",
    "\n",
    "df.head()"
   ]
  },
  {
   "cell_type": "code",
   "execution_count": 44,
   "metadata": {},
   "outputs": [
    {
     "data": {
      "text/plain": [
       "<matplotlib.collections.PathCollection at 0x20d5a52ae88>"
      ]
     },
     "execution_count": 44,
     "metadata": {},
     "output_type": "execute_result"
    },
    {
     "data": {
      "image/png": "[encoded data removed]",
      "text/plain": [
       "<Figure size 432x288 with 1 Axes>"
      ]
     },
     "metadata": {},
     "output_type": "display_data"
    }
   ],
   "source": [
    "plt.scatter(df['gdppc'],df['pl_gdpo'])"
   ]
  },
  {
   "cell_type": "code",
   "execution_count": 37,
   "metadata": {},
   "outputs": [
    {
     "data": {
      "text/plain": [
       "<matplotlib.collections.PathCollection at 0x20d588dbc48>"
      ]
     },
     "execution_count": 37,
     "metadata": {},
     "output_type": "execute_result"
    },
    {
     "data": {
      "image/png": "[encoded data removed]",
      "text/plain": [
       "<Figure size 432x288 with 1 Axes>"
      ]
     },
     "metadata": {},
     "output_type": "display_data"
    }
   ],
   "source": [
    "plt.scatter(np.log(df['prod']),np.log(df['pl_gdpo']))"
   ]
  },
  {
   "cell_type": "code",
   "execution_count": 36,
   "metadata": {},
   "outputs": [
    {
     "data": {
      "text/plain": [
       "<matplotlib.collections.PathCollection at 0x20d5a715e88>"
      ]
     },
     "execution_count": 36,
     "metadata": {},
     "output_type": "execute_result"
    },
    {
     "data": {
      "image/png": "[encoded data removed]",
      "text/plain": [
       "<Figure size 432x288 with 1 Axes>"
      ]
     },
     "metadata": {},
     "output_type": "display_data"
    }
   ],
   "source": [
    "plt.scatter(np.log(df['cons']),np.log(df['pl_c']))"
   ]
  },
  {
   "cell_type": "code",
   "execution_count": 41,
   "metadata": {},
   "outputs": [
    {
     "data": {
      "text/html": [
       "<table class=\"simpletable\">\n",
       "<caption>Robust linear Model Regression Results</caption>\n",
       "<tr>\n",
       "  <th>Dep. Variable:</th>   <td>np.log(pl_gdpo)</td> <th>  No. Observations:  </th> <td>    66</td>\n",
       "</tr>\n",
       "<tr>\n",
       "  <th>Model:</th>                 <td>RLM</td>       <th>  Df Residuals:      </th> <td>    64</td>\n",
       "</tr>\n",
       "<tr>\n",
       "  <th>Method:</th>               <td>IRLS</td>       <th>  Df Model:          </th> <td>     1</td>\n",
       "</tr>\n",
       "<tr>\n",
       "  <th>Norm:</th>                <td>HuberT</td>      <th>                     </th>    <td> </td>  \n",
       "</tr>\n",
       "<tr>\n",
       "  <th>Scale Est.:</th>            <td>mad</td>       <th>                     </th>    <td> </td>  \n",
       "</tr>\n",
       "<tr>\n",
       "  <th>Cov Type:</th>              <td>H1</td>        <th>                     </th>    <td> </td>  \n",
       "</tr>\n",
       "<tr>\n",
       "  <th>Date:</th>           <td>Wed, 19 Feb 2020</td> <th>                     </th>    <td> </td>  \n",
       "</tr>\n",
       "<tr>\n",
       "  <th>Time:</th>               <td>19:25:24</td>     <th>                     </th>    <td> </td>  \n",
       "</tr>\n",
       "<tr>\n",
       "  <th>No. Iterations:</th>        <td>20</td>        <th>                     </th>    <td> </td>  \n",
       "</tr>\n",
       "</table>\n",
       "<table class=\"simpletable\">\n",
       "<tr>\n",
       "        <td></td>          <th>coef</th>     <th>std err</th>      <th>z</th>      <th>P>|z|</th>  <th>[0.025</th>    <th>0.975]</th>  \n",
       "</tr>\n",
       "<tr>\n",
       "  <th>Intercept</th>    <td>   -1.7651</td> <td>    0.146</td> <td>  -12.069</td> <td> 0.000</td> <td>   -2.052</td> <td>   -1.478</td>\n",
       "</tr>\n",
       "<tr>\n",
       "  <th>np.log(prod)</th> <td>    0.4242</td> <td>    0.043</td> <td>    9.834</td> <td> 0.000</td> <td>    0.340</td> <td>    0.509</td>\n",
       "</tr>\n",
       "</table><br/><br/>If the model instance has been used for another fit with different fit parameters, then the fit options might not be the correct ones anymore ."
      ],
      "text/plain": [
       "<class 'statsmodels.iolib.summary.Summary'>\n",
       "\"\"\"\n",
       "                    Robust linear Model Regression Results                    \n",
       "==============================================================================\n",
       "Dep. Variable:        np.log(pl_gdpo)   No. Observations:                   66\n",
       "Model:                            RLM   Df Residuals:                       64\n",
       "Method:                          IRLS   Df Model:                            1\n",
       "Norm:                          HuberT                                         \n",
       "Scale Est.:                       mad                                         \n",
       "Cov Type:                          H1                                         \n",
       "Date:                Wed, 19 Feb 2020                                         \n",
       "Time:                        19:25:24                                         \n",
       "No. Iterations:                    20                                         \n",
       "================================================================================\n",
       "                   coef    std err          z      P>|z|      [0.025      0.975]\n",
       "--------------------------------------------------------------------------------\n",
       "Intercept       -1.7651      0.146    -12.069      0.000      -2.052      -1.478\n",
       "np.log(prod)     0.4242      0.043      9.834      0.000       0.340       0.509\n",
       "================================================================================\n",
       "\n",
       "If the model instance has been used for another fit with different fit parameters, then the fit options might not be the correct ones anymore .\n",
       "\"\"\""
      ]
     },
     "execution_count": 41,
     "metadata": {},
     "output_type": "execute_result"
    }
   ],
   "source": [
    "import statsmodels.formula.api as smf\n",
    "\n",
    "res = smf.rlm('np.log(pl_gdpo) ~ np.log(prod)',data=df).fit()\n",
    "res.summary()"
   ]
  },
  {
   "cell_type": "code",
   "execution_count": 43,
   "metadata": {},
   "outputs": [
    {
     "data": {
      "text/html": [
       "<table class=\"simpletable\">\n",
       "<caption>OLS Regression Results</caption>\n",
       "<tr>\n",
       "  <th>Dep. Variable:</th>     <td>np.log(pl_gdpo)</td> <th>  R-squared:         </th> <td>   0.608</td>\n",
       "</tr>\n",
       "<tr>\n",
       "  <th>Model:</th>                   <td>OLS</td>       <th>  Adj. R-squared:    </th> <td>   0.602</td>\n",
       "</tr>\n",
       "<tr>\n",
       "  <th>Method:</th>             <td>Least Squares</td>  <th>  F-statistic:       </th> <td>   99.24</td>\n",
       "</tr>\n",
       "<tr>\n",
       "  <th>Date:</th>             <td>Wed, 19 Feb 2020</td> <th>  Prob (F-statistic):</th> <td>1.23e-14</td>\n",
       "</tr>\n",
       "<tr>\n",
       "  <th>Time:</th>                 <td>19:25:34</td>     <th>  Log-Likelihood:    </th> <td> -7.1197</td>\n",
       "</tr>\n",
       "<tr>\n",
       "  <th>No. Observations:</th>      <td>    66</td>      <th>  AIC:               </th> <td>   18.24</td>\n",
       "</tr>\n",
       "<tr>\n",
       "  <th>Df Residuals:</th>          <td>    64</td>      <th>  BIC:               </th> <td>   22.62</td>\n",
       "</tr>\n",
       "<tr>\n",
       "  <th>Df Model:</th>              <td>     1</td>      <th>                     </th>     <td> </td>   \n",
       "</tr>\n",
       "<tr>\n",
       "  <th>Covariance Type:</th>      <td>nonrobust</td>    <th>                     </th>     <td> </td>   \n",
       "</tr>\n",
       "</table>\n",
       "<table class=\"simpletable\">\n",
       "<tr>\n",
       "        <td></td>           <th>coef</th>     <th>std err</th>      <th>t</th>      <th>P>|t|</th>  <th>[0.025</th>    <th>0.975]</th>  \n",
       "</tr>\n",
       "<tr>\n",
       "  <th>Intercept</th>     <td>   -4.8647</td> <td>    0.452</td> <td>  -10.763</td> <td> 0.000</td> <td>   -5.768</td> <td>   -3.962</td>\n",
       "</tr>\n",
       "<tr>\n",
       "  <th>np.log(gdppc)</th> <td>    0.4467</td> <td>    0.045</td> <td>    9.962</td> <td> 0.000</td> <td>    0.357</td> <td>    0.536</td>\n",
       "</tr>\n",
       "</table>\n",
       "<table class=\"simpletable\">\n",
       "<tr>\n",
       "  <th>Omnibus:</th>       <td> 1.563</td> <th>  Durbin-Watson:     </th> <td>   1.596</td>\n",
       "</tr>\n",
       "<tr>\n",
       "  <th>Prob(Omnibus):</th> <td> 0.458</td> <th>  Jarque-Bera (JB):  </th> <td>   1.564</td>\n",
       "</tr>\n",
       "<tr>\n",
       "  <th>Skew:</th>          <td>-0.303</td> <th>  Prob(JB):          </th> <td>   0.457</td>\n",
       "</tr>\n",
       "<tr>\n",
       "  <th>Kurtosis:</th>      <td> 2.551</td> <th>  Cond. No.          </th> <td>    137.</td>\n",
       "</tr>\n",
       "</table><br/><br/>Warnings:<br/>[1] Standard Errors assume that the covariance matrix of the errors is correctly specified."
      ],
      "text/plain": [
       "<class 'statsmodels.iolib.summary.Summary'>\n",
       "\"\"\"\n",
       "                            OLS Regression Results                            \n",
       "==============================================================================\n",
       "Dep. Variable:        np.log(pl_gdpo)   R-squared:                       0.608\n",
       "Model:                            OLS   Adj. R-squared:                  0.602\n",
       "Method:                 Least Squares   F-statistic:                     99.24\n",
       "Date:                Wed, 19 Feb 2020   Prob (F-statistic):           1.23e-14\n",
       "Time:                        19:25:34   Log-Likelihood:                -7.1197\n",
       "No. Observations:                  66   AIC:                             18.24\n",
       "Df Residuals:                      64   BIC:                             22.62\n",
       "Df Model:                           1                                         \n",
       "Covariance Type:            nonrobust                                         \n",
       "=================================================================================\n",
       "                    coef    std err          t      P>|t|      [0.025      0.975]\n",
       "---------------------------------------------------------------------------------\n",
       "Intercept        -4.8647      0.452    -10.763      0.000      -5.768      -3.962\n",
       "np.log(gdppc)     0.4467      0.045      9.962      0.000       0.357       0.536\n",
       "==============================================================================\n",
       "Omnibus:                        1.563   Durbin-Watson:                   1.596\n",
       "Prob(Omnibus):                  0.458   Jarque-Bera (JB):                1.564\n",
       "Skew:                          -0.303   Prob(JB):                        0.457\n",
       "Kurtosis:                       2.551   Cond. No.                         137.\n",
       "==============================================================================\n",
       "\n",
       "Warnings:\n",
       "[1] Standard Errors assume that the covariance matrix of the errors is correctly specified.\n",
       "\"\"\""
      ]
     },
     "execution_count": 43,
     "metadata": {},
     "output_type": "execute_result"
    }
   ],
   "source": [
    "res1 = smf.ols('np.log(pl_gdpo) ~ np.log(gdppc)',data=df).fit()\n",
    "res1.summary()"
   ]
  },
  {
   "cell_type": "code",
   "execution_count": 27,
   "metadata": {},
   "outputs": [
    {
     "data": {
      "text/plain": [
       "['countrycode',\n",
       " 'country',\n",
       " 'currency_unit',\n",
       " 'year',\n",
       " 'rgdpe',\n",
       " 'rgdpo',\n",
       " 'pop',\n",
       " 'emp',\n",
       " 'avh',\n",
       " 'hc',\n",
       " 'ccon',\n",
       " 'cda',\n",
       " 'cgdpe',\n",
       " 'cgdpo',\n",
       " 'cn',\n",
       " 'ck',\n",
       " 'ctfp',\n",
       " 'cwtfp',\n",
       " 'rgdpna',\n",
       " 'rconna',\n",
       " 'rdana',\n",
       " 'rnna',\n",
       " 'rkna',\n",
       " 'rtfpna',\n",
       " 'rwtfpna',\n",
       " 'labsh',\n",
       " 'irr',\n",
       " 'delta',\n",
       " 'xr',\n",
       " 'pl_con',\n",
       " 'pl_da',\n",
       " 'pl_gdpo',\n",
       " 'i_cig',\n",
       " 'i_xm',\n",
       " 'i_xr',\n",
       " 'i_outlier',\n",
       " 'i_irr',\n",
       " 'cor_exp',\n",
       " 'statcap',\n",
       " 'csh_c',\n",
       " 'csh_i',\n",
       " 'csh_g',\n",
       " 'csh_x',\n",
       " 'csh_m',\n",
       " 'csh_r',\n",
       " 'pl_c',\n",
       " 'pl_i',\n",
       " 'pl_g',\n",
       " 'pl_x',\n",
       " 'pl_m',\n",
       " 'pl_n',\n",
       " 'pl_k',\n",
       " 'gdppc',\n",
       " 'prod']"
      ]
     },
     "execution_count": 27,
     "metadata": {},
     "output_type": "execute_result"
    }
   ],
   "source": [
    "[i for i in df.columns]"
   ]
  },
  {
   "cell_type": "code",
   "execution_count": null,
   "metadata": {},
   "outputs": [],
   "source": []
  }
 ],
 "metadata": {
  "kernelspec": {
   "display_name": "Python 3",
   "language": "python",
   "name": "python3"
  },
  "language_info": {
   "codemirror_mode": {
    "name": "ipython",
    "version": 3
   },
   "file_extension": ".py",
   "mimetype": "text/x-python",
   "name": "python",
   "nbconvert_exporter": "python",
   "pygments_lexer": "ipython3",
   "version": "3.7.6"
  }
 },
 "nbformat": 4,
 "nbformat_minor": 4
}

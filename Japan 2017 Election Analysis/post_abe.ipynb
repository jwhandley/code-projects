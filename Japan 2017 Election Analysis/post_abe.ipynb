{
 "metadata": {
  "language_info": {
   "codemirror_mode": {
    "name": "ipython",
    "version": 3
   },
   "file_extension": ".py",
   "mimetype": "text/x-python",
   "name": "python",
   "nbconvert_exporter": "python",
   "pygments_lexer": "ipython3",
   "version": "3.8.3-final"
  },
  "orig_nbformat": 2,
  "kernelspec": {
   "name": "python_defaultSpec_1598835117309",
   "display_name": "Python 3.8.3 64-bit ('anaconda3': conda)"
  }
 },
 "nbformat": 4,
 "nbformat_minor": 2,
 "cells": [
  {
   "cell_type": "code",
   "execution_count": 44,
   "metadata": {},
   "outputs": [
    {
     "output_type": "execute_result",
     "data": {
      "text/plain": "   ID    NAME  RESPONSE  PREFEC  DISTRICT  PR  PRBLOCK  PARTY  MINSHIN  \\\n0   1   船橋＝利実         1       1         1   0       51      1       66   \n1   2   道下＝大樹         1       1         1   0       51      8        2   \n2   3   吉川＝貴盛         1       1         2   0       51      1       66   \n3   4   金倉＝昌俊         1       1         2   0       51      3       66   \n4   5  小和田＝康文         1       1         2   0       51      4       66   \n\n   INCUMB  ...  Q9_6  Q9_7  Q9_8  Q9_9  Q1_1_FA  Q1_2_FA   Q1_3_FA  \\\n0       2  ...     1     1     1     2      NaN      NaN       NaN   \n1       1  ...     5     5     5     5    経済・雇用      NaN       NaN   \n2       3  ...     1     1     2     2      NaN      NaN       NaN   \n3       1  ...     5     5     5     5      NaN      NaN  消費税10%中止   \n4       1  ...     3     1     1     5      NaN      NaN       NaN   \n\n   SQ7_1_1_FA  SQ7_1_2_FA  SQ7_1_3_FA  \n0         NaN         NaN         NaN  \n1         NaN         NaN         NaN  \n2         NaN       教育の充実         NaN  \n3         NaN         NaN         NaN  \n4         NaN         NaN         NaN  \n\n[5 rows x 77 columns]",
      "text/html": "<div>\n<style scoped>\n    .dataframe tbody tr th:only-of-type {\n        vertical-align: middle;\n    }\n\n    .dataframe tbody tr th {\n        vertical-align: top;\n    }\n\n    .dataframe thead th {\n        text-align: right;\n    }\n</style>\n<table border=\"1\" class=\"dataframe\">\n  <thead>\n    <tr style=\"text-align: right;\">\n      <th></th>\n      <th>ID</th>\n      <th>NAME</th>\n      <th>RESPONSE</th>\n      <th>PREFEC</th>\n      <th>DISTRICT</th>\n      <th>PR</th>\n      <th>PRBLOCK</th>\n      <th>PARTY</th>\n      <th>MINSHIN</th>\n      <th>INCUMB</th>\n      <th>...</th>\n      <th>Q9_6</th>\n      <th>Q9_7</th>\n      <th>Q9_8</th>\n      <th>Q9_9</th>\n      <th>Q1_1_FA</th>\n      <th>Q1_2_FA</th>\n      <th>Q1_3_FA</th>\n      <th>SQ7_1_1_FA</th>\n      <th>SQ7_1_2_FA</th>\n      <th>SQ7_1_3_FA</th>\n    </tr>\n  </thead>\n  <tbody>\n    <tr>\n      <th>0</th>\n      <td>1</td>\n      <td>船橋＝利実</td>\n      <td>1</td>\n      <td>1</td>\n      <td>1</td>\n      <td>0</td>\n      <td>51</td>\n      <td>1</td>\n      <td>66</td>\n      <td>2</td>\n      <td>...</td>\n      <td>1</td>\n      <td>1</td>\n      <td>1</td>\n      <td>2</td>\n      <td>NaN</td>\n      <td>NaN</td>\n      <td>NaN</td>\n      <td>NaN</td>\n      <td>NaN</td>\n      <td>NaN</td>\n    </tr>\n    <tr>\n      <th>1</th>\n      <td>2</td>\n      <td>道下＝大樹</td>\n      <td>1</td>\n      <td>1</td>\n      <td>1</td>\n      <td>0</td>\n      <td>51</td>\n      <td>8</td>\n      <td>2</td>\n      <td>1</td>\n      <td>...</td>\n      <td>5</td>\n      <td>5</td>\n      <td>5</td>\n      <td>5</td>\n      <td>経済・雇用</td>\n      <td>NaN</td>\n      <td>NaN</td>\n      <td>NaN</td>\n      <td>NaN</td>\n      <td>NaN</td>\n    </tr>\n    <tr>\n      <th>2</th>\n      <td>3</td>\n      <td>吉川＝貴盛</td>\n      <td>1</td>\n      <td>1</td>\n      <td>2</td>\n      <td>0</td>\n      <td>51</td>\n      <td>1</td>\n      <td>66</td>\n      <td>3</td>\n      <td>...</td>\n      <td>1</td>\n      <td>1</td>\n      <td>2</td>\n      <td>2</td>\n      <td>NaN</td>\n      <td>NaN</td>\n      <td>NaN</td>\n      <td>NaN</td>\n      <td>教育の充実</td>\n      <td>NaN</td>\n    </tr>\n    <tr>\n      <th>3</th>\n      <td>4</td>\n      <td>金倉＝昌俊</td>\n      <td>1</td>\n      <td>1</td>\n      <td>2</td>\n      <td>0</td>\n      <td>51</td>\n      <td>3</td>\n      <td>66</td>\n      <td>1</td>\n      <td>...</td>\n      <td>5</td>\n      <td>5</td>\n      <td>5</td>\n      <td>5</td>\n      <td>NaN</td>\n      <td>NaN</td>\n      <td>消費税10%中止</td>\n      <td>NaN</td>\n      <td>NaN</td>\n      <td>NaN</td>\n    </tr>\n    <tr>\n      <th>4</th>\n      <td>5</td>\n      <td>小和田＝康文</td>\n      <td>1</td>\n      <td>1</td>\n      <td>2</td>\n      <td>0</td>\n      <td>51</td>\n      <td>4</td>\n      <td>66</td>\n      <td>1</td>\n      <td>...</td>\n      <td>3</td>\n      <td>1</td>\n      <td>1</td>\n      <td>5</td>\n      <td>NaN</td>\n      <td>NaN</td>\n      <td>NaN</td>\n      <td>NaN</td>\n      <td>NaN</td>\n      <td>NaN</td>\n    </tr>\n  </tbody>\n</table>\n<p>5 rows × 77 columns</p>\n</div>"
     },
     "metadata": {},
     "execution_count": 44
    }
   ],
   "source": [
    "from matplotlib import pyplot as plt\n",
    "import pandas as pd\n",
    "import numpy as np\n",
    "from sklearn.impute import KNNImputer\n",
    "from sklearn.decomposition import PCA\n",
    "\n",
    "df = pd.read_csv('Data/2017UTASP20180628.csv',encoding='cp932')\n",
    "\n",
    "question_crosswalk = {'Q4_1':'防衛力強化',\n",
    "                      'Q4_2':'先制攻撃',\n",
    "                      'Q4_3':'北朝鮮圧力',\n",
    "                      'Q4_4':'非核三原則',\n",
    "                      'Q4_5':'靖国参拝',\n",
    "                      'Q4_6':'小さな政府',\n",
    "                      'Q4_7':'公共事業',\n",
    "                      'Q4_8':'財政出動',\n",
    "                      'Q4_9':'教育無償化',\n",
    "                      'Q4_10':'累進課税',\n",
    "                      'Q4_11':'個人権利の制約',\n",
    "                      'Q4_12':'外人労働者',\n",
    "                      'Q4_13':'原発再稼働',\n",
    "                      'Q4_14':'夫婦別姓',\n",
    "                      'Q4_15':'同性婚',\n",
    "                      'Q4_16':'被選挙権引き下げ',\n",
    "                      'Q4_17':'国会一院化'}\n",
    "df = df.rename(columns=question_crosswalk)\n",
    "questions = [value for value in question_crosswalk.values()]\n",
    "\n",
    "df.head()"
   ]
  },
  {
   "cell_type": "code",
   "execution_count": 58,
   "metadata": {},
   "outputs": [
    {
     "output_type": "execute_result",
     "data": {
      "text/plain": "              第1軸           第2軸           第3軸\n第1軸  1.000000e+00 -1.556323e-16  4.830751e-17\n第2軸 -1.556323e-16  1.000000e+00 -7.641375e-17\n第3軸  4.830751e-17 -7.641375e-17  1.000000e+00",
      "text/html": "<div>\n<style scoped>\n    .dataframe tbody tr th:only-of-type {\n        vertical-align: middle;\n    }\n\n    .dataframe tbody tr th {\n        vertical-align: top;\n    }\n\n    .dataframe thead th {\n        text-align: right;\n    }\n</style>\n<table border=\"1\" class=\"dataframe\">\n  <thead>\n    <tr style=\"text-align: right;\">\n      <th></th>\n      <th>第1軸</th>\n      <th>第2軸</th>\n      <th>第3軸</th>\n    </tr>\n  </thead>\n  <tbody>\n    <tr>\n      <th>第1軸</th>\n      <td>1.000000e+00</td>\n      <td>-1.556323e-16</td>\n      <td>4.830751e-17</td>\n    </tr>\n    <tr>\n      <th>第2軸</th>\n      <td>-1.556323e-16</td>\n      <td>1.000000e+00</td>\n      <td>-7.641375e-17</td>\n    </tr>\n    <tr>\n      <th>第3軸</th>\n      <td>4.830751e-17</td>\n      <td>-7.641375e-17</td>\n      <td>1.000000e+00</td>\n    </tr>\n  </tbody>\n</table>\n</div>"
     },
     "metadata": {},
     "execution_count": 58
    }
   ],
   "source": [
    "df[questions] = KNNImputer().fit_transform(df[questions].replace(99,np.nan))\n",
    "n_components = 3\n",
    "pca = PCA(n_components=n_components).fit_transform(df[questions])\n",
    "for index in range(n_components):\n",
    "    df[f'第{index+1}軸'] = pca[:,index]\n",
    "\n",
    "df[[f'第{index+1}軸' for index in range(3)]].corr()"
   ]
  },
  {
   "cell_type": "code",
   "execution_count": 70,
   "metadata": {},
   "outputs": [],
   "source": [
    "cands = df.loc[df['NAME'].isin(['河野＝太郎','菅＝義偉','石破＝茂','岸田＝文雄','安倍＝晋三','小泉＝進次郎']),['NAME'] + [f'第{index+1}軸' for index in range(3)]].set_index('NAME')\n",
    "\n",
    "df['party'] = df['PARTY'].replace(range(1,12),['自民党','公明党','共産党','日本維新の会','社民党','その他','希望の党','立憲民主党','その他','その他','その他'])\n",
    "party_means = df.groupby('party')[[f'第{index+1}軸' for index in range(3)]].mean()\n",
    "\n",
    "data = pd.concat([cands,party_means])\n",
    "data.to_excel('post_abe.xlsx')"
   ]
  },
  {
   "cell_type": "code",
   "execution_count": null,
   "metadata": {},
   "outputs": [],
   "source": []
  }
 ]
}
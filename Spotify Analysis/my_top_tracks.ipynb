{
 "metadata": {
  "language_info": {
   "codemirror_mode": {
    "name": "ipython",
    "version": 3
   },
   "file_extension": ".py",
   "mimetype": "text/x-python",
   "name": "python",
   "nbconvert_exporter": "python",
   "pygments_lexer": "ipython3",
   "version": "3.8.3-final"
  },
  "orig_nbformat": 2,
  "kernelspec": {
   "name": "python_defaultSpec_1599387103198",
   "display_name": "Python 3.8.3 64-bit ('anaconda3': conda)"
  }
 },
 "nbformat": 4,
 "nbformat_minor": 2,
 "cells": [
  {
   "cell_type": "code",
   "execution_count": 1,
   "metadata": {},
   "outputs": [
    {
     "output_type": "execute_result",
     "data": {
      "text/plain": "{'country': 'GB',\n 'display_name': 'jwhandley',\n 'email': 'jwhandley17@gmail.com',\n 'explicit_content': {'filter_enabled': False, 'filter_locked': False},\n 'external_urls': {'spotify': 'https://open.spotify.com/user/jwhandley'},\n 'followers': {'href': None, 'total': 1},\n 'href': 'https://api.spotify.com/v1/users/jwhandley',\n 'id': 'jwhandley',\n 'images': [],\n 'product': 'premium',\n 'type': 'user',\n 'uri': 'spotify:user:jwhandley'}"
     },
     "metadata": {},
     "execution_count": 1
    }
   ],
   "source": [
    "%matplotlib inline\n",
    "from matplotlib import pyplot as plt\n",
    "import numpy as np\n",
    "import pandas as pd\n",
    "import spotipy\n",
    "from spotipy.oauth2 import SpotifyOAuth\n",
    "import seaborn as sns; sns.set()\n",
    "from jupyterthemes import jtplot\n",
    "jtplot.style(theme='monokai', context='notebook', ticks=True, grid=False)\n",
    "\n",
    "sp = spotipy.Spotify(auth_manager=SpotifyOAuth(client_id='da06919089954d6395139775f24cc770',client_secret='7b718f878b094f08bf945cb9663bbbb3',redirect_uri='http://127.0.0.1:9090', scope='user-top-read',username='jwhandley'))\n",
    "\n",
    "sp.current_user()"
   ]
  },
  {
   "cell_type": "code",
   "execution_count": 6,
   "metadata": {},
   "outputs": [
    {
     "output_type": "execute_result",
     "data": {
      "text/plain": "{'name': ['Graffiti',\n  'Get Out',\n  \"Nobody's Empire\",\n  'Forever',\n  'Do I Wanna Know?',\n  'Deliverance',\n  'Miracle',\n  'Graves',\n  'Never Say Die',\n  'My Enemy',\n  'The Mother We Share',\n  'Heaven/Hell',\n  'The Party Line',\n  'Really Gone',\n  'Cosmic Explorer',\n  'ラビリンス',\n  \"God's Plan\",\n  'Jerusalem',\n  'Moskau',\n  'Wonderland'],\n 'artist': ['CHVRCHES',\n  'CHVRCHES',\n  'Belle & Sebastian',\n  'CHVRCHES',\n  'Arctic Monkeys',\n  'CHVRCHES',\n  'CHVRCHES',\n  'CHVRCHES',\n  'CHVRCHES',\n  'CHVRCHES',\n  'CHVRCHES',\n  'CHVRCHES',\n  'Belle & Sebastian',\n  'CHVRCHES',\n  'Perfume',\n  'Mondo Grosso',\n  'CHVRCHES',\n  'Hubert Parry',\n  'Dschinghis Khan',\n  'CHVRCHES']}"
     },
     "metadata": {},
     "execution_count": 6
    }
   ],
   "source": [
    "top_tracks = sp.current_user_top_tracks(time_range='long_term')['items']\n",
    "{\n",
    "    'name': [top_tracks[i]['name'] for i in range(20)],\n",
    "    'artist': [top_tracks[i]['artists'][0]['name'] for i in range(20)]\n",
    "}"
   ]
  },
  {
   "cell_type": "code",
   "execution_count": null,
   "metadata": {},
   "outputs": [],
   "source": []
  }
 ]
}
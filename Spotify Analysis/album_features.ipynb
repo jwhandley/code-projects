{
 "metadata": {
  "language_info": {
   "codemirror_mode": {
    "name": "ipython",
    "version": 3
   },
   "file_extension": ".py",
   "mimetype": "text/x-python",
   "name": "python",
   "nbconvert_exporter": "python",
   "pygments_lexer": "ipython3",
   "version": "3.8.5-final"
  },
  "orig_nbformat": 2,
  "kernelspec": {
   "name": "Python 3.8.5 64-bit ('anaconda3': conda)",
   "display_name": "Python 3.8.5 64-bit ('anaconda3': conda)",
   "metadata": {
    "interpreter": {
     "hash": "6942b95eed70459e8571f7ae161b3d68f15a6ad7230b47510bb33644016de851"
    }
   }
  }
 },
 "nbformat": 4,
 "nbformat_minor": 2,
 "cells": [
  {
   "cell_type": "code",
   "execution_count": 1,
   "metadata": {},
   "outputs": [
    {
     "output_type": "execute_result",
     "data": {
      "text/plain": "{&#39;country&#39;: &#39;GB&#39;,\n &#39;display_name&#39;: &#39;jwhandley&#39;,\n &#39;email&#39;: &#39;jwhandley17@gmail.com&#39;,\n &#39;explicit_content&#39;: {&#39;filter_enabled&#39;: False, &#39;filter_locked&#39;: False},\n &#39;external_urls&#39;: {&#39;spotify&#39;: &#39;https://open.spotify.com/user/jwhandley&#39;},\n &#39;followers&#39;: {&#39;href&#39;: None, &#39;total&#39;: 1},\n &#39;href&#39;: &#39;https://api.spotify.com/v1/users/jwhandley&#39;,\n &#39;id&#39;: &#39;jwhandley&#39;,\n &#39;images&#39;: [],\n &#39;product&#39;: &#39;premium&#39;,\n &#39;type&#39;: &#39;user&#39;,\n &#39;uri&#39;: &#39;spotify:user:jwhandley&#39;}"
     },
     "metadata": {},
     "execution_count": 1
    }
   ],
   "source": [
    "%matplotlib inline\n",
    "from matplotlib import pyplot as plt\n",
    "import numpy as np\n",
    "import pandas as pd\n",
    "import spotipy\n",
    "from spotipy.oauth2 import SpotifyOAuth\n",
    "import seaborn as sns; sns.set()\n",
    "from jupyterthemes import jtplot\n",
    "jtplot.style(theme='monokai', context='notebook', ticks=True, grid=False)\n",
    "\n",
    "sp = spotipy.Spotify(auth_manager=SpotifyOAuth(client_id='da06919089954d6395139775f24cc770',client_secret='7b718f878b094f08bf945cb9663bbbb3',redirect_uri='http://127.0.0.1:9090', scope='user-top-read',username='jwhandley'))\n",
    "sp.current_user()"
   ]
  },
  {
   "cell_type": "code",
   "execution_count": 2,
   "metadata": {},
   "outputs": [],
   "source": [
    "def album_features(album_id):\n",
    "    album_tracks = sp.album_tracks(album_id)['items']\n",
    "    ids = [album_tracks[i]['id'] for i in range(len(album_tracks))]\n",
    "\n",
    "    album = sp.audio_features(ids)\n",
    "    album_features = {key: np.mean([album[i][key] for i in range(len(album))]) for key in ['danceability','energy','valence','loudness','tempo','acousticness']}\n",
    "    album_features['name'] = sp.album(album_id)['name']\n",
    "        \n",
    "    return pd.DataFrame().from_dict(album_features,orient='columns',index='name')"
   ]
  },
  {
   "cell_type": "code",
   "execution_count": 59,
   "metadata": {
    "tags": []
   },
   "outputs": [
    {
     "output_type": "error",
     "ename": "TypeError",
     "evalue": "from_dict() got an unexpected keyword argument 'index'",
     "traceback": [
      "\u001b[1;31m---------------------------------------------------------------------------\u001b[0m",
      "\u001b[1;31mTypeError\u001b[0m                                 Traceback (most recent call last)",
      "\u001b[1;32m<ipython-input-59-8d7ccae8dc39>\u001b[0m in \u001b[0;36m<module>\u001b[1;34m\u001b[0m\n\u001b[1;32m----> 1\u001b[1;33m \u001b[0mfolklore\u001b[0m \u001b[1;33m=\u001b[0m \u001b[0malbum_features\u001b[0m\u001b[1;33m(\u001b[0m\u001b[1;34m'2fenSS68JI1h4Fo296JfGr'\u001b[0m\u001b[1;33m)\u001b[0m\u001b[1;33m\u001b[0m\u001b[1;33m\u001b[0m\u001b[0m\n\u001b[0m\u001b[0;32m      2\u001b[0m \u001b[0mfuture_nostalgia\u001b[0m \u001b[1;33m=\u001b[0m \u001b[0malbum_features\u001b[0m\u001b[1;33m(\u001b[0m\u001b[1;34m'7fJJK56U9fHixgO0HQkhtI'\u001b[0m\u001b[1;33m)\u001b[0m\u001b[1;33m\u001b[0m\u001b[1;33m\u001b[0m\u001b[0m\n\u001b[0;32m      3\u001b[0m \u001b[0m_1989\u001b[0m \u001b[1;33m=\u001b[0m \u001b[0malbum_features\u001b[0m\u001b[1;33m(\u001b[0m\u001b[1;34m'5fy0X0JmZRZnVa2UEicIOl'\u001b[0m\u001b[1;33m)\u001b[0m\u001b[1;33m\u001b[0m\u001b[1;33m\u001b[0m\u001b[0m\n\u001b[0;32m      4\u001b[0m \u001b[0msawayama\u001b[0m \u001b[1;33m=\u001b[0m \u001b[0malbum_features\u001b[0m\u001b[1;33m(\u001b[0m\u001b[1;34m'3stadz88XVpHcXnVYMHc4J'\u001b[0m\u001b[1;33m)\u001b[0m\u001b[1;33m\u001b[0m\u001b[1;33m\u001b[0m\u001b[0m\n\u001b[0;32m      5\u001b[0m \u001b[0mlove_is_dead\u001b[0m \u001b[1;33m=\u001b[0m \u001b[0malbum_features\u001b[0m\u001b[1;33m(\u001b[0m\u001b[1;34m'2hshVOA4ULsMGHPDiUaDbJ'\u001b[0m\u001b[1;33m)\u001b[0m\u001b[1;33m\u001b[0m\u001b[1;33m\u001b[0m\u001b[0m\n",
      "\u001b[1;32m<ipython-input-58-5c79efa807dd>\u001b[0m in \u001b[0;36malbum_features\u001b[1;34m(album_id)\u001b[0m\n\u001b[0;32m      7\u001b[0m     \u001b[0malbum_features\u001b[0m\u001b[1;33m[\u001b[0m\u001b[1;34m'name'\u001b[0m\u001b[1;33m]\u001b[0m \u001b[1;33m=\u001b[0m \u001b[0msp\u001b[0m\u001b[1;33m.\u001b[0m\u001b[0malbum\u001b[0m\u001b[1;33m(\u001b[0m\u001b[0malbum_id\u001b[0m\u001b[1;33m)\u001b[0m\u001b[1;33m[\u001b[0m\u001b[1;34m'name'\u001b[0m\u001b[1;33m]\u001b[0m\u001b[1;33m\u001b[0m\u001b[1;33m\u001b[0m\u001b[0m\n\u001b[0;32m      8\u001b[0m \u001b[1;33m\u001b[0m\u001b[0m\n\u001b[1;32m----> 9\u001b[1;33m     \u001b[1;32mreturn\u001b[0m \u001b[0mpd\u001b[0m\u001b[1;33m.\u001b[0m\u001b[0mDataFrame\u001b[0m\u001b[1;33m(\u001b[0m\u001b[1;33m)\u001b[0m\u001b[1;33m.\u001b[0m\u001b[0mfrom_dict\u001b[0m\u001b[1;33m(\u001b[0m\u001b[0malbum_features\u001b[0m\u001b[1;33m,\u001b[0m\u001b[0morient\u001b[0m\u001b[1;33m=\u001b[0m\u001b[1;34m'columns'\u001b[0m\u001b[1;33m,\u001b[0m\u001b[0mindex\u001b[0m\u001b[1;33m=\u001b[0m\u001b[1;34m'name'\u001b[0m\u001b[1;33m)\u001b[0m\u001b[1;33m\u001b[0m\u001b[1;33m\u001b[0m\u001b[0m\n\u001b[0m",
      "\u001b[1;31mTypeError\u001b[0m: from_dict() got an unexpected keyword argument 'index'"
     ]
    }
   ],
   "source": [
    "folklore = album_features('2fenSS68JI1h4Fo296JfGr')\n",
    "future_nostalgia = album_features('7fJJK56U9fHixgO0HQkhtI')\n",
    "_1989 = album_features('5fy0X0JmZRZnVa2UEicIOl')\n",
    "sawayama = album_features('3stadz88XVpHcXnVYMHc4J')\n",
    "love_is_dead = album_features('2hshVOA4ULsMGHPDiUaDbJ')"
   ]
  },
  {
   "cell_type": "code",
   "execution_count": 57,
   "metadata": {
    "tags": []
   },
   "outputs": [
    {
     "output_type": "execute_result",
     "data": {
      "text/plain": "                     0\ndanceability  0.567875\nenergy        0.425063\nvalence        0.38125\nloudness      -10.2471\ntempo          116.148\nacousticness  0.710813\nname          folklore",
      "text/html": "<div>\n<style scoped>\n    .dataframe tbody tr th:only-of-type {\n        vertical-align: middle;\n    }\n\n    .dataframe tbody tr th {\n        vertical-align: top;\n    }\n\n    .dataframe thead th {\n        text-align: right;\n    }\n</style>\n<table border=\"1\" class=\"dataframe\">\n  <thead>\n    <tr style=\"text-align: right;\">\n      <th></th>\n      <th>0</th>\n    </tr>\n  </thead>\n  <tbody>\n    <tr>\n      <th>danceability</th>\n      <td>0.567875</td>\n    </tr>\n    <tr>\n      <th>energy</th>\n      <td>0.425063</td>\n    </tr>\n    <tr>\n      <th>valence</th>\n      <td>0.38125</td>\n    </tr>\n    <tr>\n      <th>loudness</th>\n      <td>-10.2471</td>\n    </tr>\n    <tr>\n      <th>tempo</th>\n      <td>116.148</td>\n    </tr>\n    <tr>\n      <th>acousticness</th>\n      <td>0.710813</td>\n    </tr>\n    <tr>\n      <th>name</th>\n      <td>folklore</td>\n    </tr>\n  </tbody>\n</table>\n</div>"
     },
     "metadata": {},
     "execution_count": 57
    }
   ],
   "source": [
    "folklore"
   ]
  },
  {
   "cell_type": "code",
   "execution_count": 47,
   "metadata": {},
   "outputs": [
    {
     "output_type": "execute_result",
     "data": {
      "text/plain": "{'danceability': 0.7136363636363637,\n 'energy': 0.715090909090909,\n 'valence': 0.6703636363636364,\n 'loudness': -4.513545454545454,\n 'tempo': 114.15872727272726,\n 'acousticness': 0.09091909090909091,\n 'name': 'Future Nostalgia'}"
     },
     "metadata": {},
     "execution_count": 47
    }
   ],
   "source": [
    "future_nostalgia"
   ]
  },
  {
   "cell_type": "code",
   "execution_count": 48,
   "metadata": {},
   "outputs": [
    {
     "output_type": "execute_result",
     "data": {
      "text/plain": "{'danceability': 0.6502307692307693,\n 'energy': 0.6987692307692309,\n 'valence': 0.46190769230769224,\n 'loudness': -6.236461538461539,\n 'tempo': 118.55246153846154,\n 'acousticness': 0.11317538461538462,\n 'name': '1989'}"
     },
     "metadata": {},
     "execution_count": 48
    }
   ],
   "source": [
    "_1989"
   ]
  },
  {
   "cell_type": "code",
   "execution_count": 49,
   "metadata": {},
   "outputs": [
    {
     "output_type": "execute_result",
     "data": {
      "text/plain": "{'danceability': 0.5333076923076923,\n 'energy': 0.8273846153846154,\n 'valence': 0.43130769230769234,\n 'loudness': -3.381153846153846,\n 'tempo': 106.02115384615385,\n 'acousticness': 0.10505851538461539,\n 'name': 'SAWAYAMA'}"
     },
     "metadata": {},
     "execution_count": 49
    }
   ],
   "source": [
    "sawayama"
   ]
  },
  {
   "cell_type": "code",
   "execution_count": null,
   "metadata": {},
   "outputs": [],
   "source": []
  }
 ]
}
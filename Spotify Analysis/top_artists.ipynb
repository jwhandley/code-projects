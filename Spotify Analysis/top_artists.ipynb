{
 "cells": [
  {
   "cell_type": "code",
   "execution_count": 9,
   "metadata": {},
   "outputs": [
    {
     "output_type": "execute_result",
     "data": {
      "text/plain": "dict_keys(['short_term', 'medium_term', 'long_term'])"
     },
     "metadata": {},
     "execution_count": 9
    }
   ],
   "source": [
    "%matplotlib inline\n",
    "from matplotlib import pyplot as plt\n",
    "import numpy as np\n",
    "import pandas as pd\n",
    "import spotipy\n",
    "from spotipy.oauth2 import SpotifyOAuth\n",
    "import seaborn as sns; sns.set()\n",
    "from jupyterthemes import jtplot\n",
    "jtplot.style(theme='monokai', context='notebook', ticks=True, grid=False)\n",
    "\n",
    "sp = spotipy.Spotify(auth_manager=SpotifyOAuth(client_id='da06919089954d6395139775f24cc770',client_secret='7b718f878b094f08bf945cb9663bbbb3',redirect_uri='http://127.0.0.1:9090', scope='user-top-read',username='jwhandley'))\n",
    "\n",
    "top_artists = {time_range: sp.current_user_top_artists(time_range=time_range,limit=40)['items'] for time_range in ['short_term','medium_term','long_term']}\n",
    "\n",
    "top_artists.keys()"
   ]
  },
  {
   "cell_type": "code",
   "execution_count": 45,
   "metadata": {
    "tags": []
   },
   "outputs": [
    {
     "output_type": "execute_result",
     "data": {
      "text/plain": "[('dance pop', 21),\n ('pop', 21),\n ('electropop', 17),\n ('art pop', 12),\n ('metropopolis', 11),\n ('escape room', 10),\n ('post-teen pop', 10),\n ('indietronica', 7),\n ('indie pop', 6),\n ('hyperpop', 4),\n ('indie poptimism', 4)]"
     },
     "metadata": {},
     "execution_count": 45
    }
   ],
   "source": [
    "genres = {\n",
    "    'short_term': [],\n",
    "    'medium_term': [],\n",
    "    'long_term': []\n",
    "}\n",
    "\n",
    "\n",
    "for time_range in ['short_term','medium_term','long_term']:\n",
    "    for i in range(40):\n",
    "        genres[time_range] += top_artists[time_range][i]['genres']\n",
    "\n",
    "genres = {time_range: [(item,genres[time_range].count(item)) for item in set(genres[time_range]) if genres[time_range].count(item)>3] for time_range in ['short_term','medium_term','long_term']}\n",
    "\n",
    "genres['short_term'].sort(key = lambda x: -x[1])\n",
    "genres['short_term']"
   ]
  },
  {
   "cell_type": "code",
   "execution_count": 47,
   "metadata": {},
   "outputs": [
    {
     "output_type": "execute_result",
     "data": {
      "text/plain": "[('pop', 15),\n ('dance pop', 13),\n ('metropopolis', 12),\n ('electropop', 12),\n ('indietronica', 11),\n ('art pop', 10),\n ('indie pop', 10),\n ('post-teen pop', 6),\n ('modern rock', 6),\n ('indie rock', 6),\n ('escape room', 5),\n ('shimmer pop', 5),\n ('permanent wave', 4),\n ('indie poptimism', 4)]"
     },
     "metadata": {},
     "execution_count": 47
    }
   ],
   "source": [
    "genres['medium_term'].sort(key = lambda x: -x[1])\n",
    "genres['medium_term']"
   ]
  },
  {
   "cell_type": "code",
   "execution_count": 48,
   "metadata": {},
   "outputs": [
    {
     "output_type": "execute_result",
     "data": {
      "text/plain": "[('indie pop', 11),\n ('metropopolis', 9),\n ('modern rock', 8),\n ('indie rock', 8),\n ('indietronica', 8),\n ('pop', 8),\n ('electropop', 8),\n ('dance pop', 7),\n ('permanent wave', 7),\n ('rock', 6),\n ('alternative rock', 5),\n ('art pop', 5),\n ('alternative dance', 5),\n ('post-teen pop', 4),\n ('dance-punk', 4),\n ('new rave', 4),\n ('j-pop', 4)]"
     },
     "metadata": {},
     "execution_count": 48
    }
   ],
   "source": [
    "genres['long_term'].sort(key = lambda x: -x[1])\n",
    "genres['long_term']"
   ]
  },
  {
   "cell_type": "code",
   "execution_count": null,
   "metadata": {},
   "outputs": [],
   "source": []
  }
 ],
 "metadata": {
  "kernelspec": {
   "display_name": "Python 3.8.3 64-bit ('anaconda3': conda)",
   "language": "python",
   "name": "python_defaultSpec_1599530609848"
  },
  "language_info": {
   "codemirror_mode": {
    "name": "ipython",
    "version": 3
   },
   "file_extension": ".py",
   "mimetype": "text/x-python",
   "name": "python",
   "nbconvert_exporter": "python",
   "pygments_lexer": "ipython3",
   "version": "3.8.3-final"
  }
 },
 "nbformat": 4,
 "nbformat_minor": 4
}
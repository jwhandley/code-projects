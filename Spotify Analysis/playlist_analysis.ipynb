{
 "metadata": {
  "language_info": {
   "codemirror_mode": {
    "name": "ipython",
    "version": 3
   },
   "file_extension": ".py",
   "mimetype": "text/x-python",
   "name": "python",
   "nbconvert_exporter": "python",
   "pygments_lexer": "ipython3",
   "version": "3.8.3-final"
  },
  "orig_nbformat": 2,
  "kernelspec": {
   "name": "python_defaultSpec_1599532576925",
   "display_name": "Python 3.8.3 64-bit ('anaconda3': conda)"
  }
 },
 "nbformat": 4,
 "nbformat_minor": 2,
 "cells": [
  {
   "cell_type": "code",
   "execution_count": 6,
   "metadata": {},
   "outputs": [
    {
     "output_type": "execute_result",
     "data": {
      "text/plain": "50"
     },
     "metadata": {},
     "execution_count": 6
    }
   ],
   "source": [
    "%matplotlib inline\n",
    "from matplotlib import pyplot as plt\n",
    "import numpy as np\n",
    "import pandas as pd\n",
    "import spotipy\n",
    "from spotipy.oauth2 import SpotifyOAuth\n",
    "import seaborn as sns; sns.set()\n",
    "from jupyterthemes import jtplot\n",
    "jtplot.style(theme='monokai', context='notebook', ticks=True, grid=False)\n",
    "\n",
    "sp = spotipy.Spotify(auth_manager=SpotifyOAuth(client_id='da06919089954d6395139775f24cc770',client_secret='7b718f878b094f08bf945cb9663bbbb3',redirect_uri='http://127.0.0.1:9090', scope='user-top-read',username='jwhandley'))\n",
    "\n",
    "playlist = sp.playlist_tracks('5JcK1RwxYa1AZjzRSXxwj6',limit=50)['items']\n",
    "len(playlist)"
   ]
  },
  {
   "cell_type": "code",
   "execution_count": 21,
   "metadata": {},
   "outputs": [
    {
     "output_type": "execute_result",
     "data": {
      "text/plain": "57.06"
     },
     "metadata": {},
     "execution_count": 21
    }
   ],
   "source": [
    "ids = [playlist[i]['track']['id'] for i in range(50)]\n",
    "tracks = sp.tracks(ids)['tracks']\n",
    "features = sp.audio_features(ids)\n",
    "\n",
    "np.mean([tracks[i]['popularity'] for i in range(50)])\n"
   ]
  },
  {
   "cell_type": "code",
   "execution_count": 29,
   "metadata": {
    "tags": []
   },
   "outputs": [
    {
     "output_type": "stream",
     "name": "stdout",
     "text": "danceability 0.62\nenergy 0.71\nloudness -5.41\nvalence 0.51\nacousticness 0.12\ntempo 120.29\n"
    }
   ],
   "source": [
    "for key in ['danceability','energy','loudness','valence','acousticness','tempo']:\n",
    "    print(key,round(np.mean([features[i][key] for i in range(50)]),2))"
   ]
  },
  {
   "cell_type": "code",
   "execution_count": 28,
   "metadata": {},
   "outputs": [
    {
     "output_type": "execute_result",
     "data": {
      "text/plain": "dict_keys(['danceability', 'energy', 'key', 'loudness', 'mode', 'speechiness', 'acousticness', 'instrumentalness', 'liveness', 'valence', 'tempo', 'type', 'id', 'uri', 'track_href', 'analysis_url', 'duration_ms', 'time_signature'])"
     },
     "metadata": {},
     "execution_count": 28
    }
   ],
   "source": [
    "features[0].keys()"
   ]
  },
  {
   "cell_type": "code",
   "execution_count": null,
   "metadata": {},
   "outputs": [],
   "source": []
  }
 ]
}
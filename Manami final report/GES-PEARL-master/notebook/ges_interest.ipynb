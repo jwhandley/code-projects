{
 "cells": [
  {
   "cell_type": "markdown",
   "metadata": {},
   "source": [
    "## Interest Rate\n",
    "---\n",
    "\n",
    "Suppose $W(t)$ is the wealth at time $t$ ($t\\geqq 0$) and $r$ is an interest rate.\n",
    "\n",
    "+ **Simple interest rate**\n",
    "$$\n",
    " W(t) = (1+rt)W(0).\n",
    "$$\n",
    "+ **One-year compound interest rate**\n",
    "$$\n",
    " W(t) = (1+r)^t W(0).\n",
    "$$\n",
    "+ **$\\frac1{M}$-year compound interest rate**\n",
    "$$\n",
    " W(t) = \\left(1+\\frac{r}{M}\\right)^{Mt} W(0).\n",
    "$$\n",
    "+ **Continuous compoud interest rate**\n",
    "$$\n",
    " W(t) = e^{rt}W(0).\n",
    "$$"
   ]
  },
  {
   "cell_type": "markdown",
   "metadata": {},
   "source": [
    "## Python Code: Simple Rate vs. Compounding Rate\n",
    "---\n",
    "\n",
    "The following command enables plotting within cells."
   ]
  },
  {
   "cell_type": "code",
   "execution_count": 1,
   "metadata": {},
   "outputs": [],
   "source": [
    "%matplotlib inline"
   ]
  },
  {
   "cell_type": "markdown",
   "metadata": {},
   "source": [
    "`import` literally imports a package named NumPy in Python. NumPy enable us to use vectors and matrices in Python. It also comes with numerous functions for mathematical computation. `as np` means that we use `np` as a abbreviation of `numpy`."
   ]
  },
  {
   "cell_type": "code",
   "execution_count": 2,
   "metadata": {},
   "outputs": [],
   "source": [
    "import numpy as np"
   ]
  },
  {
   "cell_type": "markdown",
   "metadata": {},
   "source": [
    "This line imports PyPlot, a collection of functions for 2D/3D graphics."
   ]
  },
  {
   "cell_type": "code",
   "execution_count": 3,
   "metadata": {},
   "outputs": [],
   "source": [
    "import matplotlib.pyplot as plt"
   ]
  },
  {
   "cell_type": "markdown",
   "metadata": {},
   "source": [
    "`r` is the interest rate. `Maturity` is the number of years until the end of the investment period."
   ]
  },
  {
   "cell_type": "code",
   "execution_count": 4,
   "metadata": {},
   "outputs": [],
   "source": [
    "r = 0.2\n",
    "Maturity = 10"
   ]
  },
  {
   "cell_type": "markdown",
   "metadata": {},
   "source": [
    "`Simple_Rate` contains the amount of wealth at each year when we invest funds with simple interest rate."
   ]
  },
  {
   "cell_type": "code",
   "execution_count": 5,
   "metadata": {},
   "outputs": [],
   "source": [
    "Simple_Rate = 1.0 + r * np.linspace(0, Maturity, Maturity + 1)"
   ]
  },
  {
   "cell_type": "markdown",
   "metadata": {},
   "source": [
    "`linspace(0, Maturity, Maturity + 1)` creates a vector of grid points. The first number in `linspace(0, Maturity, Maturity + 1)` is the starting point, the second is the end point, and the third is the number of grid points. `print` show the content of the object."
   ]
  },
  {
   "cell_type": "code",
   "execution_count": 6,
   "metadata": {},
   "outputs": [
    {
     "name": "stdout",
     "output_type": "stream",
     "text": [
      "[ 0.  1.  2.  3.  4.  5.  6.  7.  8.  9. 10.]\n"
     ]
    }
   ],
   "source": [
    "print(np.linspace(0, Maturity, Maturity + 1))"
   ]
  },
  {
   "cell_type": "code",
   "execution_count": 7,
   "metadata": {},
   "outputs": [
    {
     "name": "stdout",
     "output_type": "stream",
     "text": [
      "[1.  1.2 1.4 1.6 1.8 2.  2.2 2.4 2.6 2.8 3. ]\n"
     ]
    }
   ],
   "source": [
    "print(Simple_Rate)"
   ]
  },
  {
   "cell_type": "markdown",
   "metadata": {},
   "source": [
    "`Compound_1year` contains the amount of wealth at each year when we invest funds with one-year compound interest rate."
   ]
  },
  {
   "cell_type": "code",
   "execution_count": 8,
   "metadata": {},
   "outputs": [],
   "source": [
    "Compound_1year = np.hstack((1.0, np.cumprod(np.tile(1.0 + r, Maturity))))"
   ]
  },
  {
   "cell_type": "markdown",
   "metadata": {},
   "source": [
    "`tile` creates a larger vector/matrix by tiling the same vector/matrix."
   ]
  },
  {
   "cell_type": "code",
   "execution_count": 9,
   "metadata": {},
   "outputs": [
    {
     "name": "stdout",
     "output_type": "stream",
     "text": [
      "[1.2 1.2 1.2 1.2 1.2 1.2 1.2 1.2 1.2 1.2]\n"
     ]
    }
   ],
   "source": [
    "print(np.tile(1.0 + r, Maturity))"
   ]
  },
  {
   "cell_type": "markdown",
   "metadata": {},
   "source": [
    "`cumprod` computes *cumulative products*, i.e.,"
   ]
  },
  {
   "cell_type": "code",
   "execution_count": 10,
   "metadata": {},
   "outputs": [
    {
     "name": "stdout",
     "output_type": "stream",
     "text": [
      "[1.2        1.44       1.728      2.0736     2.48832    2.985984\n",
      " 3.5831808  4.29981696 5.15978035 6.19173642]\n"
     ]
    }
   ],
   "source": [
    "print(np.cumprod(np.tile(1.0 + r, Maturity)))"
   ]
  },
  {
   "cell_type": "markdown",
   "metadata": {},
   "source": [
    "`hstack` creates a larger vector/matrix by putting vectors/matrices together horizontally."
   ]
  },
  {
   "cell_type": "code",
   "execution_count": 11,
   "metadata": {},
   "outputs": [
    {
     "name": "stdout",
     "output_type": "stream",
     "text": [
      "[1.         1.2        1.44       1.728      2.0736     2.48832\n",
      " 2.985984   3.5831808  4.29981696 5.15978035 6.19173642]\n"
     ]
    }
   ],
   "source": [
    "print(Compound_1year)"
   ]
  },
  {
   "cell_type": "markdown",
   "metadata": {},
   "source": [
    "`Comound_6month` contains the amount of wealth at each year when we invest funds with six-month compound interest rate."
   ]
  },
  {
   "cell_type": "code",
   "execution_count": 12,
   "metadata": {},
   "outputs": [],
   "source": [
    "Compound_6month = np.hstack((1.0, np.cumprod(np.tile((1.0 + r/2.0)**2, Maturity))))"
   ]
  },
  {
   "cell_type": "markdown",
   "metadata": {},
   "source": [
    "`Continuous_Rate` contains the amount of wealth at each year when we invest funds with continuous compound interest rate."
   ]
  },
  {
   "cell_type": "code",
   "execution_count": 13,
   "metadata": {},
   "outputs": [],
   "source": [
    "Continuous_Rate = np.exp(r*np.linspace(0, Maturity, Maturity + 1))"
   ]
  },
  {
   "cell_type": "markdown",
   "metadata": {},
   "source": [
    "The following cell creates a figure."
   ]
  },
  {
   "cell_type": "code",
   "execution_count": 26,
   "metadata": {},
   "outputs": [
    {
     "data": {
      "image/png": "[encoded data removed]",
      "text/plain": [
       "<Figure size 432x288 with 1 Axes>"
      ]
     },
     "metadata": {},
     "output_type": "display_data"
    }
   ],
   "source": [
    "fig1 = plt.figure(num=1, facecolor='w')\n",
    "plt.plot(Simple_Rate, 'b-')\n",
    "plt.plot(Compound_1year, 'r--')\n",
    "plt.plot(Compound_6month, 'g-.')\n",
    "plt.plot(Continuous_Rate, 'm:')\n",
    "plt.legend(['simple', '1-year compound', '6-month compound', 'continuous'],\n",
    "           loc='upper left', frameon=False)\n",
    "plt.xlabel('t')\n",
    "plt.ylabel('W(t)/W(0)')\n",
    "plt.show()"
   ]
  },
  {
   "cell_type": "code",
   "execution_count": null,
   "metadata": {},
   "outputs": [],
   "source": []
  }
 ],
 "metadata": {
  "kernelspec": {
   "display_name": "Python (Finance)",
   "language": "python",
   "name": "finance"
  },
  "language_info": {
   "codemirror_mode": {
    "name": "ipython",
    "version": 3
   },
   "file_extension": ".py",
   "mimetype": "text/x-python",
   "name": "python",
   "nbconvert_exporter": "python",
   "pygments_lexer": "ipython3",
   "version": "3.7.5"
  }
 },
 "nbformat": 4,
 "nbformat_minor": 4
}

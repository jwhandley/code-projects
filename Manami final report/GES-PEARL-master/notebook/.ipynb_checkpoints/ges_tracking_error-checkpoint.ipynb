{
 "cells": [
  {
   "cell_type": "markdown",
   "metadata": {},
   "source": [
    "## Tracking Error Minimization\n",
    "---\n",
    "\n",
    "### Passive Management Vs. Active Management\n",
    "\n",
    "+ So far we have reviewed how to manage our portfolio in terms of the balance between the expected return and the risk (the variance or the expected shortfall). This style of portfolio management is called <font color=red>active management</font>. Active management also involves discretionary selection of assets.\n",
    "\n",
    "+ <font color=red>Passive management</font> of a portfolio, on the other hand, is a investment strategy in which an investor tries to mimic a benchmark index. Passive management funds that mimic indices are called \\alert{index funds}. As the benchmark portfolio, index funds use stock indices, bond indices, currencies, commodities, or even hedge funds.\n",
    "\n",
    "+ The goal in passive management is to minimize a discrepancy between a portfolio and the benchmark index. \n"
   ]
  },
  {
   "cell_type": "code",
   "execution_count": 1,
   "metadata": {},
   "outputs": [],
   "source": [
    "import numpy as np\n",
    "import scipy.stats as st\n",
    "import cvxpy as cvx\n",
    "import pandas as pd\n",
    "import matplotlib.pyplot as plt\n",
    "from IPython.display import display"
   ]
  },
  {
   "cell_type": "markdown",
   "metadata": {},
   "source": [
    "Here we generate artificial stock return data and save them in the CSV file `asset_return_data.csv`.\n",
    "\n",
    "`random.seed` sets the seed for pseudo-random numbers. This assures the reproducibility of computational outcomes with pseudo-random numbers.\n",
    "\n",
    "We use `multivariate_normal` in `scipy.stats` to generate random vectors from the multivariate normal distribution with the mean vector `Mu` and the covariance matrix `Sigma`. See more details on `multivariate_normal` at https://docs.scipy.org/doc/scipy/reference/generated/scipy.stats.multivariate_normal.html"
   ]
  },
  {
   "cell_type": "code",
   "execution_count": 2,
   "metadata": {},
   "outputs": [
    {
     "data": {
      "text/html": [
       "<div>\n",
       "<style scoped>\n",
       "    .dataframe tbody tr th:only-of-type {\n",
       "        vertical-align: middle;\n",
       "    }\n",
       "\n",
       "    .dataframe tbody tr th {\n",
       "        vertical-align: top;\n",
       "    }\n",
       "\n",
       "    .dataframe thead th {\n",
       "        text-align: right;\n",
       "    }\n",
       "</style>\n",
       "<table border=\"1\" class=\"dataframe\">\n",
       "  <thead>\n",
       "    <tr style=\"text-align: right;\">\n",
       "      <th></th>\n",
       "      <th>Asset 1</th>\n",
       "      <th>Aseet 2</th>\n",
       "      <th>Asset3</th>\n",
       "      <th>Asset 4</th>\n",
       "      <th>Asset 5</th>\n",
       "    </tr>\n",
       "  </thead>\n",
       "  <tbody>\n",
       "    <tr>\n",
       "      <th>2010-01-31</th>\n",
       "      <td>-2.313057</td>\n",
       "      <td>-4.503855</td>\n",
       "      <td>0.530932</td>\n",
       "      <td>1.392579</td>\n",
       "      <td>-1.345408</td>\n",
       "    </tr>\n",
       "    <tr>\n",
       "      <th>2010-02-28</th>\n",
       "      <td>-2.474033</td>\n",
       "      <td>-2.361441</td>\n",
       "      <td>-19.814875</td>\n",
       "      <td>12.819493</td>\n",
       "      <td>-10.031085</td>\n",
       "    </tr>\n",
       "    <tr>\n",
       "      <th>2010-03-31</th>\n",
       "      <td>-5.384739</td>\n",
       "      <td>2.588934</td>\n",
       "      <td>10.350946</td>\n",
       "      <td>10.356395</td>\n",
       "      <td>-1.664494</td>\n",
       "    </tr>\n",
       "    <tr>\n",
       "      <th>2010-04-30</th>\n",
       "      <td>-5.992190</td>\n",
       "      <td>-0.496439</td>\n",
       "      <td>-4.770446</td>\n",
       "      <td>-5.838914</td>\n",
       "      <td>-21.171828</td>\n",
       "    </tr>\n",
       "    <tr>\n",
       "      <th>2010-05-31</th>\n",
       "      <td>-4.701301</td>\n",
       "      <td>-13.822786</td>\n",
       "      <td>6.776691</td>\n",
       "      <td>-4.201704</td>\n",
       "      <td>21.390680</td>\n",
       "    </tr>\n",
       "    <tr>\n",
       "      <th>...</th>\n",
       "      <td>...</td>\n",
       "      <td>...</td>\n",
       "      <td>...</td>\n",
       "      <td>...</td>\n",
       "      <td>...</td>\n",
       "    </tr>\n",
       "    <tr>\n",
       "      <th>2019-08-31</th>\n",
       "      <td>3.627017</td>\n",
       "      <td>25.813189</td>\n",
       "      <td>5.174548</td>\n",
       "      <td>6.392566</td>\n",
       "      <td>10.367343</td>\n",
       "    </tr>\n",
       "    <tr>\n",
       "      <th>2019-09-30</th>\n",
       "      <td>8.219459</td>\n",
       "      <td>2.193804</td>\n",
       "      <td>-1.083170</td>\n",
       "      <td>32.676895</td>\n",
       "      <td>16.633275</td>\n",
       "    </tr>\n",
       "    <tr>\n",
       "      <th>2019-10-31</th>\n",
       "      <td>7.407514</td>\n",
       "      <td>13.978706</td>\n",
       "      <td>-5.043529</td>\n",
       "      <td>15.059008</td>\n",
       "      <td>2.255886</td>\n",
       "    </tr>\n",
       "    <tr>\n",
       "      <th>2019-11-30</th>\n",
       "      <td>2.853102</td>\n",
       "      <td>-2.226434</td>\n",
       "      <td>5.037606</td>\n",
       "      <td>6.213427</td>\n",
       "      <td>21.054736</td>\n",
       "    </tr>\n",
       "    <tr>\n",
       "      <th>2019-12-31</th>\n",
       "      <td>3.925230</td>\n",
       "      <td>-0.556322</td>\n",
       "      <td>6.234687</td>\n",
       "      <td>-3.554233</td>\n",
       "      <td>9.539070</td>\n",
       "    </tr>\n",
       "  </tbody>\n",
       "</table>\n",
       "<p>120 rows × 5 columns</p>\n",
       "</div>"
      ],
      "text/plain": [
       "             Asset 1    Aseet 2     Asset3    Asset 4    Asset 5\n",
       "2010-01-31 -2.313057  -4.503855   0.530932   1.392579  -1.345408\n",
       "2010-02-28 -2.474033  -2.361441 -19.814875  12.819493 -10.031085\n",
       "2010-03-31 -5.384739   2.588934  10.350946  10.356395  -1.664494\n",
       "2010-04-30 -5.992190  -0.496439  -4.770446  -5.838914 -21.171828\n",
       "2010-05-31 -4.701301 -13.822786   6.776691  -4.201704  21.390680\n",
       "...              ...        ...        ...        ...        ...\n",
       "2019-08-31  3.627017  25.813189   5.174548   6.392566  10.367343\n",
       "2019-09-30  8.219459   2.193804  -1.083170  32.676895  16.633275\n",
       "2019-10-31  7.407514  13.978706  -5.043529  15.059008   2.255886\n",
       "2019-11-30  2.853102  -2.226434   5.037606   6.213427  21.054736\n",
       "2019-12-31  3.925230  -0.556322   6.234687  -3.554233   9.539070\n",
       "\n",
       "[120 rows x 5 columns]"
      ]
     },
     "metadata": {},
     "output_type": "display_data"
    }
   ],
   "source": [
    "Mu = np.array([1.0, 3.0, 1.5, 6.0, 4.5])\n",
    "Stdev = np.array([5.0, 10.0, 7.5, 15.0, 11.0])\n",
    "CorrMatrix = np.array([[1.00, 0.25, 0.18, 0.10, 0.25],\n",
    "                       [0.25, 1.00, 0.36, 0.20, 0.20],\n",
    "                       [0.18, 0.36, 1.00, 0.25, 0.36],\n",
    "                       [0.10, 0.20, 0.25, 1.00, 0.45],\n",
    "                       [0.25, 0.20, 0.36, 0.45, 1.00]])\n",
    "Sigma = np.diag(Stdev) @ CorrMatrix @ np.diag(Stdev)\n",
    "np.random.seed(9999)\n",
    "T = 120\n",
    "End_of_Month = pd.date_range('1/1/2010', periods=T, freq='M')\n",
    "Asset_Names = ['Asset 1', 'Aseet 2', 'Asset3', 'Asset 4', 'Asset 5']\n",
    "Asset_Return = pd.DataFrame(st.multivariate_normal.rvs(mean=Mu, cov=Sigma, size=T),\n",
    "                            index=End_of_Month, columns=Asset_Names)\n",
    "Asset_Return.to_csv('asset_return_data.csv')\n",
    "display(Asset_Return)"
   ]
  },
  {
   "cell_type": "markdown",
   "metadata": {},
   "source": [
    "Then we read the generate data from `asset_return_data.csv` again."
   ]
  },
  {
   "cell_type": "code",
   "execution_count": 3,
   "metadata": {},
   "outputs": [],
   "source": [
    "R = pd.read_csv('asset_return_data.csv', index_col=0)\n",
    "R = R.asfreq(pd.infer_freq(R.index))\n",
    "T, N = R.shape\n",
    "np.random.seed(8888)\n",
    "BenchmarkIndex = R @ np.tile(1.0/N, N) + st.norm.rvs(loc=0.0, scale=3.0, size=T)"
   ]
  },
  {
   "cell_type": "markdown",
   "metadata": {},
   "source": [
    "### Tracking Error\n",
    "\n",
    "Let $y_t$ denote the return on the benchmark index at time $t$, $r_{nt}$ denote the return on asset $n$ $(n=1,\\dots,N)$ at time $t$ $(t=1,\\dots,T)$, and $w_n$ denote the allocation weight for asset $n$. Then a discrepancy between a portfolio and the benchmark index at time $t$ is given by\n",
    "\\begin{equation}\n",
    "\\begin{split}\n",
    " e_t &= y_t - \\sum_{n=1}^N w_n r_{nt}\n",
    " = y_t - \\begin{bmatrix} r_{1t} & \\cdots & r_{Nt}\\end{bmatrix}\n",
    " \\begin{bmatrix} w_1\\\\ \\vdots \\\\ w_N \\end{bmatrix} \\\\\n",
    " &= y_t - r_t^{\\intercal}w.\n",
    "\\end{split}\n",
    "\\end{equation}\n",
    "This discrepancy is called a <font color=red>tracking error</font>. \n"
   ]
  },
  {
   "cell_type": "markdown",
   "metadata": {},
   "source": [
    "Define\n",
    "\n",
    "\\begin{equation*}\n",
    " y = \\begin{bmatrix} y_1 \\\\ \\vdots \\\\ y_T \\end{bmatrix},\\quad\n",
    " R = \\begin{bmatrix} r_1^{\\intercal} \\\\ \\vdots \\\\ r_T^{\\intercal} \\end{bmatrix},\\quad\n",
    " e = \\begin{bmatrix} e_1 \\\\ \\vdots \\\\ e_T \\end{bmatrix}.\n",
    "\\end{equation*}\n",
    "\n",
    "The tracking error minimization problem is defined as \n",
    "\n",
    "\\begin{equation*}\n",
    "\\begin{split}\n",
    " \\min_{w, e} & \\quad \\frac1{T}e^{\\intercal}e, \\\\\n",
    " \\text{subject to} & \\quad  e = y-Rw,\\quad w^{\\intercal}\\iota = 1,\\quad w\\geqq 0.\n",
    "\\end{split}\n",
    "\\end{equation*}\n"
   ]
  },
  {
   "cell_type": "code",
   "execution_count": 4,
   "metadata": {},
   "outputs": [],
   "source": [
    "MovingWindow = 96\n",
    "BackTesting = T - MovingWindow\n",
    "V_Tracking = np.zeros(BackTesting)\n",
    "Weight = cvx.Variable(N)\n",
    "Error = cvx.Variable(MovingWindow)\n",
    "TrackingError = cvx.sum_squares(Error) / MovingWindow\n",
    "Asset_all = R\n",
    "Index_all = BenchmarkIndex\n",
    "for Month in range(0, BackTesting):\n",
    "    Asset = Asset_all.values[Month:(Month + MovingWindow), :]\n",
    "    Index = Index_all.values[Month:(Month + MovingWindow)]\n",
    "    Min_TrackingError = cvx.Problem(cvx.Minimize(TrackingError),\n",
    "                                    [Index - Asset @ Weight == Error,\n",
    "                                     cvx.sum(Weight) == 1.0,\n",
    "                                     Weight >= 0.0])\n",
    "    Min_TrackingError.solve(solver=cvx.ECOS)\n",
    "    V_Tracking[Month] = R.values[Month + MovingWindow, :] @ Weight.value"
   ]
  },
  {
   "cell_type": "code",
   "execution_count": 5,
   "metadata": {},
   "outputs": [
    {
     "data": {
      "image/png": "[encoded data removed]",
      "text/plain": [
       "<Figure size 432x288 with 1 Axes>"
      ]
     },
     "metadata": {},
     "output_type": "display_data"
    }
   ],
   "source": [
    "fig1 = plt.figure(num=1, facecolor='w')\n",
    "plt.plot(list(range(1, BackTesting + 1)), BenchmarkIndex[MovingWindow:], 'b-', label='Benchmark')\n",
    "plt.plot(list(range(1, BackTesting + 1)), V_Tracking, 'r--', label='Portfolio')\n",
    "plt.legend(loc='best', frameon=False)\n",
    "plt.xlabel('Year')\n",
    "plt.ylabel('Return (%)')\n",
    "plt.xticks(list(range(12, BackTesting + 1, 12)),\n",
    "           pd.date_range(R.index[MovingWindow], periods=BackTesting//12, freq='AS').year)\n",
    "plt.show()"
   ]
  }
 ],
 "metadata": {
  "kernelspec": {
   "display_name": "Python (Finance)",
   "language": "python",
   "name": "finance"
  },
  "language_info": {
   "codemirror_mode": {
    "name": "ipython",
    "version": 3
   },
   "file_extension": ".py",
   "mimetype": "text/x-python",
   "name": "python",
   "nbconvert_exporter": "python",
   "pygments_lexer": "ipython3",
   "version": "3.8.3"
  }
 },
 "nbformat": 4,
 "nbformat_minor": 4
}

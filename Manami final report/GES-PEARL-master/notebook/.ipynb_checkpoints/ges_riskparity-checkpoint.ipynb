{
 "cells": [
  {
   "cell_type": "markdown",
   "metadata": {},
   "source": [
    "## Risk Parity Approach\n",
    "---\n",
    "\n",
    "A <font color=red>risk parity approach</font> of portfolio management focuses on balancing \"risk allocation\" among assets, instead of balancing the target return and the risk of the portfolio.\n",
    "\n",
    "1. The mean-variance approach tends to produce an extremely skewed portfolio.\n",
    "2. It is hard to obtain a reliable estimate of the expected return on any asset.\n",
    "3. Many fund managers feel increasingly uncomfortable with the traditional asset allocation techniques since they were useless during such financial turmoil as the Global Financial Crisis.\n",
    "\n"
   ]
  },
  {
   "cell_type": "code",
   "execution_count": 1,
   "metadata": {},
   "outputs": [],
   "source": [
    "import numpy as np\n",
    "import numpy.linalg as la\n",
    "import scipy.optimize as opt\n",
    "Mu = np.array([1.0, 3.0, 1.5, 6.0, 4.5])\n",
    "Stdev = np.array([5.0, 10.0, 7.5, 15.0, 11.0])\n",
    "CorrMatrix = np.array([[1.00, 0.25, 0.18, 0.10, 0.25],\n",
    "                       [0.25, 1.00, 0.36, 0.20, 0.20],\n",
    "                       [0.18, 0.36, 1.00, 0.25, 0.36],\n",
    "                       [0.10, 0.20, 0.25, 1.00, 0.45],\n",
    "                       [0.25, 0.20, 0.36, 0.45, 1.00]])\n",
    "Sigma = np.diag(Stdev) @ CorrMatrix @ np.diag(Stdev)\n",
    "iota = np.ones(Mu.shape)\n",
    "inv_Sigma = la.inv(Sigma)"
   ]
  },
  {
   "cell_type": "markdown",
   "metadata": {},
   "source": [
    "### $1/N$ Portfolio\n",
    "---\n",
    "\n",
    "One trivial example of such portfolios that equalize the impact of each asset onto the total risk is\n",
    "\n",
    "\\begin{equation*}\n",
    " w_{n}^{1/N} = \\frac1{N},\\quad (n=1,\\dots,N).\n",
    "\\end{equation*}\n",
    "\n",
    "This is often refered to as the <font color=red>$1/N$ portfolio</font>.\n"
   ]
  },
  {
   "cell_type": "code",
   "execution_count": 2,
   "metadata": {},
   "outputs": [],
   "source": [
    "Weight_1N = np.tile(1.0/Mu.shape[0], Mu.shape[0])"
   ]
  },
  {
   "cell_type": "markdown",
   "metadata": {},
   "source": [
    "### Global Minimum Variance Portfolio\n",
    "---\n",
    "\n",
    "The <font color=red>global minimum variance portfolio</font> is the solution of the following optimization problem:\n",
    "\n",
    "\\begin{align*}\n",
    " \\min_{w} &\\quad w^{\\intercal}\\Sigma w \\\\\n",
    " \\text{subject to} &\\quad w^{\\intercal}\\iota = 1,\n",
    "\\end{align*}\n",
    "\n",
    "that is,\n",
    "\n",
    "\\begin{equation*}\n",
    " w^{MV} = \\frac1{\\iota^{\\intercal}\\Sigma^{-1}\\iota}\\Sigma^{-1}\\iota.\n",
    "\\end{equation*}\n",
    "\n",
    "Note that $w^{MV}$ does not depend on the expected return vector $\\mu$. Thus we do not need to estimate $\\mu$.\n"
   ]
  },
  {
   "cell_type": "code",
   "execution_count": 3,
   "metadata": {},
   "outputs": [],
   "source": [
    "Weight_MV = inv_Sigma @ iota / (iota @ inv_Sigma @ iota)"
   ]
  },
  {
   "cell_type": "markdown",
   "metadata": {},
   "source": [
    "### Risk Parity Portfolio\n",
    "---\n",
    "\n",
    "A portfolio that satisfies\n",
    "\n",
    "\\begin{equation*}\n",
    " w_1\\nabla_1\\sigma(w) = \\cdots = w_N\\nabla_N\\sigma(w),\\quad\n",
    " \\sigma(w)=\\sqrt{w^{\\intercal}\\Sigma w},\\quad\n",
    " \\nabla_n\\sigma(w) = \\frac{\\partial\\sigma(w)}{\\partial w_n},\n",
    "\\end{equation*}\n",
    "is called the <font color=red>risk parity portfolio</font>.\n",
    "\n",
    "The allocation weight of the risk parity portfolio $w^{RP}$ is the solution of the system of non-linear equations:\n",
    "\n",
    "\\begin{align*}\n",
    " \\Sigma w^{RP} &= \\frac{\\kappa}{w^{RP}}\n",
    " = \\begin{bmatrix}\n",
    " \\displaystyle\n",
    " \\frac{\\kappa}{w_{1}^{RP}} \\\\ \\vdots \\\\\n",
    " \\displaystyle\n",
    " \\frac{\\kappa}{w_{N}^{RP}}\n",
    " \\end{bmatrix}, \\\\\n",
    " \\iota^{\\intercal}w^{RP} &= 1,\n",
    "\\end{align*}\n",
    "\n",
    "which has no closed-form solution, but can be solved numerically.\n"
   ]
  },
  {
   "cell_type": "code",
   "execution_count": 4,
   "metadata": {},
   "outputs": [],
   "source": [
    "F = lambda v, Sigma: np.hstack((Sigma @ v[:-1] - v[-1]/v[:-1], v[:-1].sum() - 1.0))\n",
    "Weight_RP = opt.root(F, np.hstack((Weight_1N, 0.0)), args=Sigma).x[:-1]"
   ]
  },
  {
   "cell_type": "markdown",
   "metadata": {},
   "source": [
    "### Maximum Diversification Portfolio\n",
    "---\n",
    "\n",
    "The <font color=red>maximum diversification portfolio</font> is the solution of\n",
    "\n",
    "\\begin{equation*}\n",
    " \\max_{w} \\quad \\frac{\\sigma^{\\intercal}w}{\\sqrt{w^{\\intercal}\\Sigma w}}.\n",
    "\\end{equation*}\n",
    "\n",
    "It is given by\n",
    "\n",
    "\\begin{equation*}\n",
    " w^{MD} = \\frac1{\\iota^{\\intercal}\\Sigma^{-1}\\sigma}\\Sigma^{-1}\\sigma.\n",
    "\\end{equation*}\n"
   ]
  },
  {
   "cell_type": "code",
   "execution_count": 5,
   "metadata": {},
   "outputs": [],
   "source": [
    "Weight_MD = inv_Sigma @ Stdev / (iota @ inv_Sigma @ Stdev)"
   ]
  },
  {
   "cell_type": "code",
   "execution_count": 6,
   "metadata": {},
   "outputs": [
    {
     "name": "stdout",
     "output_type": "stream",
     "text": [
      "[[  20.00   20.00   20.00   20.00   20.00]\n",
      " [  69.77    3.79   23.33    2.98    0.14]\n",
      " [  36.52   16.78   21.39   11.35   13.96]\n",
      " [  42.81   16.10   19.22   12.61    9.26]]\n"
     ]
    }
   ],
   "source": [
    "np.set_printoptions(formatter={'float': '{:7.2f}'.format})\n",
    "print(np.vstack((Weight_1N, Weight_MV, Weight_RP, Weight_MD))*100)"
   ]
  },
  {
   "cell_type": "code",
   "execution_count": null,
   "metadata": {},
   "outputs": [],
   "source": []
  }
 ],
 "metadata": {
  "kernelspec": {
   "display_name": "Python (Finance)",
   "language": "python",
   "name": "finance"
  },
  "language_info": {
   "codemirror_mode": {
    "name": "ipython",
    "version": 3
   },
   "file_extension": ".py",
   "mimetype": "text/x-python",
   "name": "python",
   "nbconvert_exporter": "python",
   "pygments_lexer": "ipython3",
   "version": "3.7.3"
  }
 },
 "nbformat": 4,
 "nbformat_minor": 2
}

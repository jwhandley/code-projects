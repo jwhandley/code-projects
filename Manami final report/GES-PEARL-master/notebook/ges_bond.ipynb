{
 "cells": [
  {
   "cell_type": "markdown",
   "metadata": {},
   "source": [
    "## Bond Yield\n",
    "---\n",
    "\n",
    "Let $V(t)$ denote the price of a zero-coupon bond that will mature at time $t$ ($0<t\\leqq T$). The <font color=red>yield to maturity</font> (<font color=red>YTM</font>) or simply <font color=red>yield</font>, denoted by $y(t)$, is defined as\n",
    "$$\n",
    " y(t) = \\begin{cases}\n",
    " \\displaystyle\n",
    " \\left(\\frac{F}{V(t)}\\right)^{\\frac1{t}} - 1, & (\\text{one-year compound}) \\\\\n",
    " \\displaystyle\n",
    " \\frac1{t}\\log\\frac{F}{V(t)}, & (\\text{continuous compound}) \\\\\n",
    " \\end{cases}\n",
    "$$\n",
    "\n",
    "The yield to maturity of a coupon-bearing bond is the internal rate of return on its cash flow. In this context, $y(t)$ must be constant for any $t$, though $y$ is time-varying in reality. Therefore the yield $y(t)$ is the real-valued solution of the following polynomial equation.\n",
    "\\begin{align*}\n",
    " P(0) &= C\\sum_{t=1}^{T-1}B(t,y) + (C+F)B(T,y), \\\\\n",
    " B(t,y) &= \\begin{cases}\n",
    " \\displaystyle\n",
    " \\frac{1}{(1+y)^t}, & (\\text{one-year compound}) \\\\\n",
    " \\displaystyle\n",
    " e^{-yt}, & (\\text{continuous compound}) \\\\\n",
    " \\end{cases}\n",
    "\\end{align*}\n"
   ]
  },
  {
   "cell_type": "code",
   "execution_count": 1,
   "metadata": {},
   "outputs": [],
   "source": [
    "%matplotlib inline\n",
    "import numpy as np\n",
    "import numpy.polynomial.polynomial as pol\n",
    "import matplotlib.pyplot as plt"
   ]
  },
  {
   "cell_type": "markdown",
   "metadata": {},
   "source": [
    "The function `Bond_Yield` computes the bond yield."
   ]
  },
  {
   "cell_type": "code",
   "execution_count": 2,
   "metadata": {},
   "outputs": [],
   "source": [
    "def Bond_Yield(Price, Maturity, CouponRate, FaceValue):\n",
    "    Coupon = 0.01 * CouponRate * FaceValue\n",
    "    CF = np.hstack((-Price, np.tile(Coupon, int(Maturity) - 1), FaceValue + Coupon))\n",
    "    Roots = pol.polyroots(CF)\n",
    "    Real = np.real(Roots[np.isreal(Roots)])\n",
    "    Positive = (Real[Real > 0.0]).item(0)\n",
    "    return (1.0 / Positive - 1.0) * 100"
   ]
  },
  {
   "cell_type": "markdown",
   "metadata": {},
   "source": [
    "The function `Bond_Price` computes the bond price."
   ]
  },
  {
   "cell_type": "code",
   "execution_count": 3,
   "metadata": {},
   "outputs": [],
   "source": [
    "def Bond_Price(Yield, Maturity, CouponRate, FaceValue):\n",
    "    Coupon = 0.01 * CouponRate * FaceValue\n",
    "    CF = np.hstack((0.0, np.tile(Coupon, int(Maturity) - 1), FaceValue + Coupon))\n",
    "    return pol.polyval(1.0 / (1.0 + 0.01 * Yield), CF)"
   ]
  },
  {
   "cell_type": "code",
   "execution_count": 4,
   "metadata": {},
   "outputs": [
    {
     "name": "stdout",
     "output_type": "stream",
     "text": [
      "[89.2214211967026, 5.467941206809157]\n"
     ]
    }
   ],
   "source": [
    "P_A = Bond_Price(7, 7, 5, 100)\n",
    "Y_B = Bond_Yield(98, 5, 5, 100)\n",
    "print([P_A, Y_B])"
   ]
  },
  {
   "cell_type": "code",
   "execution_count": 5,
   "metadata": {},
   "outputs": [
    {
     "data": {
      "image/png": "[encoded data removed]",
      "text/plain": [
       "<Figure size 432x288 with 1 Axes>"
      ]
     },
     "metadata": {},
     "output_type": "display_data"
    }
   ],
   "source": [
    "V_Yield = np.linspace(0, 12, 41)\n",
    "V_Price = np.array([Bond_Price(Yield, 7, 5, 100) for Yield in V_Yield])\n",
    "fig1 = plt.figure(num=1, facecolor='w')\n",
    "plt.plot(V_Yield, V_Price, 'b-')\n",
    "plt.xlabel('yield')\n",
    "plt.ylabel('price')\n",
    "plt.show()"
   ]
  },
  {
   "cell_type": "markdown",
   "metadata": {},
   "source": [
    "## Duration and Convexity\n",
    "---\n",
    "\n",
    "The price sensitivity to a infinitesimally small shift in the yield curve is given by\n",
    "\n",
    "\\begin{align*}\n",
    " \\frac{\\nabla_y P(y)}{P(y)}\n",
    " &= \\begin{cases}\n",
    " \\displaystyle\n",
    " -\\frac{D(y)}{1+y}, &  (\\text{one-year compound}) \\\\\n",
    " & \\\\\n",
    " \\displaystyle\n",
    " -D(y), & (\\text{continuous compound}) \\\\\n",
    " \\end{cases} \\\\ \\\\\n",
    " D(y) &= \\frac{C\\sum_{t=1}^T tB(t,y) + FTB(T,y)}{P(y)}.\n",
    "\\end{align*}\n",
    "\n",
    "$D(y)$ is called the <fond color=red>duration</font>.\n",
    "\n",
    "The following cell defines a function to compute the duration of a coupon-bearing bond."
   ]
  },
  {
   "cell_type": "code",
   "execution_count": 6,
   "metadata": {},
   "outputs": [],
   "source": [
    "def Bond_Duration(Yield, Maturity, CouponRate, FaceValue):\n",
    "    Price = Bond_Price(Yield, Maturity, CouponRate, FaceValue)\n",
    "    Coupon = 0.01 * CouponRate * FaceValue\n",
    "    CF = np.hstack((np.tile(Coupon, int(Maturity) - 1), Coupon + FaceValue))\n",
    "    Coef = np.linspace(1, Maturity, Maturity) * CF\n",
    "    return pol.polyval(1.0 / (1.0 + 0.01 * Yield), np.hstack((0.0, Coef))) / Price"
   ]
  },
  {
   "cell_type": "markdown",
   "metadata": {},
   "source": [
    "The <font color=red>convexity</font> $C(y)$ is defined as\n",
    "\n",
    "\\begin{align*}\n",
    " C(y) &= \\frac{\\nabla_y^2 P(y)}{P(y)}\n",
    " = \\frac{S(y) + (1 + D(y))D(y)}{(1+y)^2},\\ (\\text{one-year compound}) \\\\\n",
    " & \\\\\n",
    " S(y) &= \\frac{C\\sum_{t=1}^T(t-D(y))^2B(t,y)+F(T-D(y))^2B(T,y)}{P(y)},\n",
    "\\end{align*}\n",
    "\n",
    "where $S(y)$ is called the <font color=red>dispersion</font>.\n",
    "\n",
    "\n",
    "The following cell defines a function to compute the convexity of a coupon-bearing bond"
   ]
  },
  {
   "cell_type": "code",
   "execution_count": 7,
   "metadata": {},
   "outputs": [],
   "source": [
    "def Bond_Convexity(Yield, Maturity, CouponRate, FaceValue):\n",
    "    Price = Bond_Price(Yield, Maturity, CouponRate, FaceValue)\n",
    "    Duration = Bond_Duration(Yield, Maturity, CouponRate, FaceValue)\n",
    "    Coupon = 0.01 * CouponRate * FaceValue\n",
    "    CF = np.hstack((np.tile(Coupon, int(Maturity) - 1), Coupon + FaceValue))\n",
    "    Coef = (np.linspace(1, Maturity, Maturity) - Duration)**2 * CF\n",
    "    Dispersion = pol.polyval(1.0 / (1.0 + 0.01 * Yield), np.hstack((0.0, Coef))) \\\n",
    "                / Price\n",
    "    return (Dispersion + (1.0 + Duration) * Duration) / (1.0 + 0.01 * Yield)**2"
   ]
  },
  {
   "cell_type": "code",
   "execution_count": 8,
   "metadata": {},
   "outputs": [
    {
     "name": "stdout",
     "output_type": "stream",
     "text": [
      "[115.4434698583696, 73.50082768635235, 7.705327414925867, 7.7027886687199825, 69.7275539663588, 62.10963633984605]\n"
     ]
    }
   ],
   "source": [
    "P_A = Bond_Price(5, 10, 7, 100)\n",
    "P_B = Bond_Price(5, 8, 0.9, 100)\n",
    "D_A = Bond_Duration(5, 10, 7, 100)\n",
    "D_B = Bond_Duration(5, 8, 0.9, 100)\n",
    "C_A = Bond_Convexity(5, 10, 7, 100)\n",
    "C_B = Bond_Convexity(5, 8, 0.9, 100)\n",
    "print([P_A, P_B, D_A, D_B, C_A, C_B])"
   ]
  },
  {
   "cell_type": "code",
   "execution_count": 9,
   "metadata": {},
   "outputs": [
    {
     "data": {
      "image/png": "[encoded data removed]",
      "text/plain": [
       "<Figure size 432x288 with 1 Axes>"
      ]
     },
     "metadata": {},
     "output_type": "display_data"
    }
   ],
   "source": [
    "V_Yield = np.linspace(0, 12, 41)\n",
    "V_Price_A = np.array([Bond_Price(Yield, 10, 7, 100) for Yield in V_Yield])\n",
    "V_Price_B = np.array([Bond_Price(Yield, 8, 0.9, 100) for Yield in V_Yield])\n",
    "fig1 = plt.figure(num=1, facecolor='w')\n",
    "plt.plot(V_Yield, V_Price_A / P_A, 'b-')\n",
    "plt.plot(V_Yield, V_Price_B / P_B, 'r--')\n",
    "plt.axhline(1, color='k', linestyle=':', linewidth=0.5)\n",
    "plt.axvline(5, ymin=0, ymax=0.8, color='k', linestyle=':', linewidth=0.5)\n",
    "plt.xlabel('yield')\n",
    "plt.ylabel('price')\n",
    "Legend_A = 'bond A (D ={0:8.4f}, C ={1:8.4f})'.format(D_A, C_A)\n",
    "Legend_B = 'bond B (D ={0:8.4f}, C ={1:8.4f})'.format(D_B, C_B)\n",
    "plt.legend([Legend_A, Legend_B], loc='best', frameon=False)\n",
    "plt.show()"
   ]
  },
  {
   "cell_type": "markdown",
   "metadata": {},
   "source": [
    "`numpy.linalg` is a module in NumPy that provides functions for matrix manupilations."
   ]
  },
  {
   "cell_type": "code",
   "execution_count": 10,
   "metadata": {},
   "outputs": [],
   "source": [
    "import numpy.linalg as la"
   ]
  },
  {
   "cell_type": "markdown",
   "metadata": {},
   "source": [
    "## Yield Curve Estimation\n",
    "---\n",
    "\n",
    "Since long-term bonds are coupon-bearing ones, we have to estimate the yield curve with price data of coupon-bearing bonds. Suppose $N$ bonds with various maturities $T_1,\\dots,T_N$ are traded in the market. They must be issued by the same agent. The price of bond $n$ is $P_n$ and its cash flow is $\\{C_n(1),\\dots,C_n(\\bar T)\\}$ where $\\bar T$ is the longest maturity in the market. Since bond $n$ will mature at $T_n$, $C_n(t)=0$ for $t>T_n$. Then the bond price is given by\n",
    "\n",
    "$$\n",
    " P_n = \\sum_{t=1}^{T_n} B(t)C_n(t) = \\sum_{t=1}^{\\bar T} B(t)C_n(t),\\quad (n=1,\\dots,N)\n",
    "$$\n",
    "\n",
    "where $B(t)$ is the discount factor.\n",
    "\n",
    "The discount factors $B(1),\\dots,B(\\bar T)$ are obtained as the solution of the following system of equations:\n",
    "\n",
    "$$\n",
    "\\label{pyfin.bond.bootstrap_matrix1}\n",
    "\\begin{bmatrix}\n",
    "P_1 \\\\ P_2 \\\\ \\vdots \\\\ P_N\n",
    "\\end{bmatrix}\n",
    "=\n",
    "\\begin{bmatrix}\n",
    "C_1(1) & C_1(2) & \\cdots & C_1(\\bar T) \\\\\n",
    "C_2(1) & C_2(2) &  \\cdots & C_2(\\bar T) \\\\\n",
    "\\vdots & & \\ddots & \\vdots \\\\\n",
    "C_N(1) & C_N(2) & \\cdots & C_N(\\bar T) \\\\\n",
    "\\end{bmatrix}\n",
    "\\begin{bmatrix}\n",
    "B(1) \\\\ B(2) \\\\ \\vdots \\\\ B(\\bar T))\n",
    "\\end{bmatrix}.\n",
    "$$\n",
    "\n",
    "Finally, the yield curve $y(t)$ is given by\n",
    "\n",
    "$$\n",
    " y(t) = \\begin{cases}\n",
    " \\displaystyle\n",
    " \\left(\\frac1{B(t)}\\right)^{\\frac1{t}} - 1, & (\\text{one-year compound}) \\\\\n",
    " \\\\\n",
    " \\displaystyle\n",
    " \\frac1{t}\\log\\frac1{B(t)}, & (\\text{continuous compound}) \\\\\n",
    " \\end{cases}\n",
    "$$"
   ]
  },
  {
   "cell_type": "code",
   "execution_count": 11,
   "metadata": {},
   "outputs": [
    {
     "name": "stdout",
     "output_type": "stream",
     "text": [
      "[[102.    0.    0.    0.    0.    0.    0.    0.    0.    0. ]\n",
      " [  2.3 102.3   0.    0.    0.    0.    0.    0.    0.    0. ]\n",
      " [  2.6   2.6 102.6   0.    0.    0.    0.    0.    0.    0. ]\n",
      " [  2.4   2.4   2.4 102.4   0.    0.    0.    0.    0.    0. ]\n",
      " [  2.2   2.2   2.2   2.2 102.2   0.    0.    0.    0.    0. ]\n",
      " [  1.9   1.9   1.9   1.9   1.9 101.9   0.    0.    0.    0. ]\n",
      " [  1.7   1.7   1.7   1.7   1.7   1.7 101.7   0.    0.    0. ]\n",
      " [  2.1   2.1   2.1   2.1   2.1   2.1   2.1 102.1   0.    0. ]\n",
      " [  2.2   2.2   2.2   2.2   2.2   2.2   2.2   2.2 102.2   0. ]\n",
      " [  2.5   2.5   2.5   2.5   2.5   2.5   2.5   2.5   2.5 102.5]]\n"
     ]
    }
   ],
   "source": [
    "Bond = np.array([\n",
    "    [ 99.90,  1, 2.0],\n",
    "    [100.10,  2, 2.3],\n",
    "    [100.66,  3, 2.6],\n",
    "    [ 99.77,  4, 2.4],\n",
    "    [ 98.38,  5, 2.2],\n",
    "    [ 96.00,  6, 1.9],\n",
    "    [ 93.70,  7, 1.7],\n",
    "    [ 95.32,  8, 2.1],\n",
    "    [ 95.21,  9, 2.2],\n",
    "    [ 97.00, 10, 2.5]\n",
    "])\n",
    "F = 100\n",
    "Yield = np.array([Bond_Yield(Bond[idx,0], Bond[idx,1], Bond[idx,2], F)\n",
    "                  for idx in range(Bond.shape[0])])\n",
    "P = Bond[:,0]\n",
    "C = F * np.identity(Bond.shape[0]) \\\n",
    "    + np.tril(np.transpose(np.tile(0.01 * Bond[:, 2] * F, (Bond.shape[0], 1))))\n",
    "print(C)"
   ]
  },
  {
   "cell_type": "code",
   "execution_count": 12,
   "metadata": {},
   "outputs": [
    {
     "name": "stdout",
     "output_type": "stream",
     "text": [
      "[[2.1021021  2.1021021 ]\n",
      " [2.24830752 2.24999048]\n",
      " [2.36949285 2.37393675]\n",
      " [2.4610808  2.46752954]\n",
      " [2.54919387 2.55795852]\n",
      " [2.6293444  2.63970801]\n",
      " [2.69977972 2.71164925]\n",
      " [2.75996194 2.77765736]\n",
      " [2.80975249 2.83112753]\n",
      " [2.84898646 2.87581039]]\n"
     ]
    }
   ],
   "source": [
    "V = la.solve(C, P)\n",
    "ZeroRate = (np.power(1.0 / V, 1.0 / Bond[:, 1]) - 1.0) * 100\n",
    "print(np.vstack((Yield, ZeroRate)).T)"
   ]
  },
  {
   "cell_type": "markdown",
   "metadata": {},
   "source": [
    "The following cell creates a figure of bond yield curves"
   ]
  },
  {
   "cell_type": "code",
   "execution_count": 13,
   "metadata": {},
   "outputs": [
    {
     "data": {
      "image/png": "[encoded data removed]",
      "text/plain": [
       "<Figure size 432x288 with 1 Axes>"
      ]
     },
     "metadata": {},
     "output_type": "display_data"
    }
   ],
   "source": [
    "fig1 = plt.figure(num=1, facecolor='w')\n",
    "plt.plot(Bond[:,1], ZeroRate, 'b-')\n",
    "plt.plot(Bond[:,1], Yield, 'r--')\n",
    "plt.xlabel('time to maturity')\n",
    "plt.ylabel('yield')\n",
    "plt.legend(['yield curve (zero-coupon bond)',\n",
    "            'yield curve (coupon-bearing bond)'], loc='best', frameon=False)\n",
    "plt.show()"
   ]
  }
 ],
 "metadata": {
  "kernelspec": {
   "display_name": "Python 3",
   "language": "python",
   "name": "python3"
  },
  "language_info": {
   "codemirror_mode": {
    "name": "ipython",
    "version": 3
   },
   "file_extension": ".py",
   "mimetype": "text/x-python",
   "name": "python",
   "nbconvert_exporter": "python",
   "pygments_lexer": "ipython3",
   "version": "3.7.6"
  }
 },
 "nbformat": 4,
 "nbformat_minor": 4
}

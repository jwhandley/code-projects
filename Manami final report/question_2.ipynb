{
 "cells": [
  {
   "cell_type": "markdown",
   "metadata": {},
   "source": [
    "# Question 2: Portfolio Selection\n",
    "\n",
    "## Part 1\n",
    "\n",
    "1. Download **49 Industry Portfolios** data from\n",
    "\n",
    "  http://mba.tuck.dartmouth.edu/pages/faculty/ken.french/data_library.html\n",
    "\n",
    "I have downloaded the data and cleaned it up using excel so I can directly read it as `returns.csv`\n",
    "\n",
    "\n",
    "## Part 2\n",
    "Treat each of 49 industry portfolios as an asset and consider an\n",
    "optimal portfolio selection problem with these 49 assets. Using the\n",
    "monthly returns data **from January 1990 to December 2009**, draw the\n",
    "efficient frontier for\n",
    "\n",
    "  + minimum variance portfolio problem\n",
    "  + minimum mean absolute deviation portfolio problem\n",
    "  + minimum semi-variance portfolio problem\n",
    "  + optimal expected shortfall portfolio problem\n",
    "\n",
    "with the short selling constraint."
   ]
  },
  {
   "cell_type": "code",
   "execution_count": 9,
   "metadata": {},
   "outputs": [
    {
     "data": {
      "text/html": [
       "<div>\n",
       "<style scoped>\n",
       "    .dataframe tbody tr th:only-of-type {\n",
       "        vertical-align: middle;\n",
       "    }\n",
       "\n",
       "    .dataframe tbody tr th {\n",
       "        vertical-align: top;\n",
       "    }\n",
       "\n",
       "    .dataframe thead th {\n",
       "        text-align: right;\n",
       "    }\n",
       "</style>\n",
       "<table border=\"1\" class=\"dataframe\">\n",
       "  <thead>\n",
       "    <tr style=\"text-align: right;\">\n",
       "      <th></th>\n",
       "      <th>Agric</th>\n",
       "      <th>Food</th>\n",
       "      <th>Soda</th>\n",
       "      <th>Beer</th>\n",
       "      <th>Smoke</th>\n",
       "      <th>Toys</th>\n",
       "      <th>Fun</th>\n",
       "      <th>Books</th>\n",
       "      <th>Hshld</th>\n",
       "      <th>Clths</th>\n",
       "      <th>...</th>\n",
       "      <th>Boxes</th>\n",
       "      <th>Trans</th>\n",
       "      <th>Whlsl</th>\n",
       "      <th>Rtail</th>\n",
       "      <th>Meals</th>\n",
       "      <th>Banks</th>\n",
       "      <th>Insur</th>\n",
       "      <th>RlEst</th>\n",
       "      <th>Fin</th>\n",
       "      <th>Other</th>\n",
       "    </tr>\n",
       "  </thead>\n",
       "  <tbody>\n",
       "    <tr>\n",
       "      <th>1990-01-31</th>\n",
       "      <td>-11.45</td>\n",
       "      <td>-10.13</td>\n",
       "      <td>-10.63</td>\n",
       "      <td>-9.03</td>\n",
       "      <td>-8.65</td>\n",
       "      <td>-11.38</td>\n",
       "      <td>-10.74</td>\n",
       "      <td>-9.26</td>\n",
       "      <td>-7.72</td>\n",
       "      <td>-9.15</td>\n",
       "      <td>...</td>\n",
       "      <td>-3.45</td>\n",
       "      <td>-7.61</td>\n",
       "      <td>-7.67</td>\n",
       "      <td>-5.63</td>\n",
       "      <td>-11.41</td>\n",
       "      <td>-9.73</td>\n",
       "      <td>-10.60</td>\n",
       "      <td>-7.61</td>\n",
       "      <td>-8.25</td>\n",
       "      <td>-9.38</td>\n",
       "    </tr>\n",
       "    <tr>\n",
       "      <th>1990-02-28</th>\n",
       "      <td>9.40</td>\n",
       "      <td>-0.80</td>\n",
       "      <td>-0.89</td>\n",
       "      <td>0.51</td>\n",
       "      <td>-2.56</td>\n",
       "      <td>0.63</td>\n",
       "      <td>1.79</td>\n",
       "      <td>0.28</td>\n",
       "      <td>0.17</td>\n",
       "      <td>2.67</td>\n",
       "      <td>...</td>\n",
       "      <td>3.71</td>\n",
       "      <td>5.93</td>\n",
       "      <td>2.13</td>\n",
       "      <td>2.22</td>\n",
       "      <td>-0.99</td>\n",
       "      <td>3.94</td>\n",
       "      <td>1.42</td>\n",
       "      <td>0.40</td>\n",
       "      <td>0.87</td>\n",
       "      <td>1.88</td>\n",
       "    </tr>\n",
       "    <tr>\n",
       "      <th>1990-03-31</th>\n",
       "      <td>2.69</td>\n",
       "      <td>5.29</td>\n",
       "      <td>9.89</td>\n",
       "      <td>6.21</td>\n",
       "      <td>6.81</td>\n",
       "      <td>6.75</td>\n",
       "      <td>1.09</td>\n",
       "      <td>-0.86</td>\n",
       "      <td>4.18</td>\n",
       "      <td>8.19</td>\n",
       "      <td>...</td>\n",
       "      <td>4.34</td>\n",
       "      <td>3.26</td>\n",
       "      <td>2.99</td>\n",
       "      <td>6.04</td>\n",
       "      <td>0.66</td>\n",
       "      <td>-2.97</td>\n",
       "      <td>0.13</td>\n",
       "      <td>4.80</td>\n",
       "      <td>-2.10</td>\n",
       "      <td>4.53</td>\n",
       "    </tr>\n",
       "    <tr>\n",
       "      <th>1990-04-30</th>\n",
       "      <td>-2.04</td>\n",
       "      <td>0.02</td>\n",
       "      <td>-4.74</td>\n",
       "      <td>2.32</td>\n",
       "      <td>4.77</td>\n",
       "      <td>-5.90</td>\n",
       "      <td>1.14</td>\n",
       "      <td>-7.23</td>\n",
       "      <td>-1.89</td>\n",
       "      <td>-0.94</td>\n",
       "      <td>...</td>\n",
       "      <td>2.19</td>\n",
       "      <td>-4.20</td>\n",
       "      <td>-2.18</td>\n",
       "      <td>-1.72</td>\n",
       "      <td>-3.94</td>\n",
       "      <td>-4.38</td>\n",
       "      <td>-4.48</td>\n",
       "      <td>-4.73</td>\n",
       "      <td>-3.39</td>\n",
       "      <td>4.00</td>\n",
       "    </tr>\n",
       "    <tr>\n",
       "      <th>1990-05-31</th>\n",
       "      <td>1.44</td>\n",
       "      <td>9.22</td>\n",
       "      <td>8.36</td>\n",
       "      <td>15.91</td>\n",
       "      <td>1.12</td>\n",
       "      <td>12.39</td>\n",
       "      <td>13.21</td>\n",
       "      <td>10.07</td>\n",
       "      <td>9.78</td>\n",
       "      <td>8.20</td>\n",
       "      <td>...</td>\n",
       "      <td>4.66</td>\n",
       "      <td>4.87</td>\n",
       "      <td>9.11</td>\n",
       "      <td>11.99</td>\n",
       "      <td>13.75</td>\n",
       "      <td>10.57</td>\n",
       "      <td>10.47</td>\n",
       "      <td>-0.10</td>\n",
       "      <td>4.32</td>\n",
       "      <td>11.57</td>\n",
       "    </tr>\n",
       "  </tbody>\n",
       "</table>\n",
       "<p>5 rows × 49 columns</p>\n",
       "</div>"
      ],
      "text/plain": [
       "            Agric   Food   Soda   Beer  Smoke   Toys    Fun  Books  Hshld  \\\n",
       "1990-01-31 -11.45 -10.13 -10.63  -9.03  -8.65 -11.38 -10.74  -9.26  -7.72   \n",
       "1990-02-28   9.40  -0.80  -0.89   0.51  -2.56   0.63   1.79   0.28   0.17   \n",
       "1990-03-31   2.69   5.29   9.89   6.21   6.81   6.75   1.09  -0.86   4.18   \n",
       "1990-04-30  -2.04   0.02  -4.74   2.32   4.77  -5.90   1.14  -7.23  -1.89   \n",
       "1990-05-31   1.44   9.22   8.36  15.91   1.12  12.39  13.21  10.07   9.78   \n",
       "\n",
       "            Clths  ...  Boxes  Trans  Whlsl  Rtail  Meals  Banks  Insur  \\\n",
       "1990-01-31  -9.15  ...  -3.45  -7.61  -7.67  -5.63 -11.41  -9.73 -10.60   \n",
       "1990-02-28   2.67  ...   3.71   5.93   2.13   2.22  -0.99   3.94   1.42   \n",
       "1990-03-31   8.19  ...   4.34   3.26   2.99   6.04   0.66  -2.97   0.13   \n",
       "1990-04-30  -0.94  ...   2.19  -4.20  -2.18  -1.72  -3.94  -4.38  -4.48   \n",
       "1990-05-31   8.20  ...   4.66   4.87   9.11  11.99  13.75  10.57  10.47   \n",
       "\n",
       "            RlEst   Fin  Other  \n",
       "1990-01-31  -7.61 -8.25  -9.38  \n",
       "1990-02-28   0.40  0.87   1.88  \n",
       "1990-03-31   4.80 -2.10   4.53  \n",
       "1990-04-30  -4.73 -3.39   4.00  \n",
       "1990-05-31  -0.10  4.32  11.57  \n",
       "\n",
       "[5 rows x 49 columns]"
      ]
     },
     "execution_count": 9,
     "metadata": {},
     "output_type": "execute_result"
    }
   ],
   "source": [
    "import numpy as np\n",
    "import cvxpy as cp\n",
    "import pandas as pd\n",
    "import numpy.linalg as la\n",
    "import scipy.optimize as opt\n",
    "import matplotlib.pyplot as plt\n",
    "from IPython.display import display\n",
    "\n",
    "# Read the cleaned up Fama-French data (returns.csv)\n",
    "R = pd.read_csv('returns.csv', index_col=0)\n",
    "\n",
    "# Change the index to be dates January 1990 to December 2009\n",
    "R.index = pd.date_range('1990-01-01', periods=R.shape[0], freq='M')\n",
    "\n",
    "# Get the number of periods (T) and number of assets (N)\n",
    "T, N = R.shape\n",
    "# Compute the mean return for each asset\n",
    "Mu = R.mean().values\n",
    "\n",
    "# Show the head of the returns data\n",
    "R.head()"
   ]
  },
  {
   "cell_type": "markdown",
   "metadata": {},
   "source": [
    "### Minimum variance frontier"
   ]
  },
  {
   "cell_type": "code",
   "execution_count": 10,
   "metadata": {},
   "outputs": [],
   "source": [
    "T, N = R.shape\n",
    "Mu = R.mean().values\n",
    "Sigma = R.cov().values * ((T - 1.0) / T)\n",
    "Return_Dev = (R - Mu).values"
   ]
  },
  {
   "cell_type": "code",
   "execution_count": 11,
   "metadata": {},
   "outputs": [],
   "source": [
    "# Define the problem\n",
    "\n",
    "Weight = cp.Variable(N)\n",
    "Deviation = cp.Variable(T)\n",
    "Target_Return = cp.Parameter()\n",
    "Risk_Variance = cp.sum_squares(Deviation) / T\n",
    "Opt_Portfolio = cp.Problem(cp.Minimize(Risk_Variance),\n",
    "                           [Return_Dev @ Weight == Deviation,\n",
    "                            Weight.T @ Mu == Target_Return,\n",
    "                            cp.sum(Weight) == 1.0,\n",
    "                            Weight >= 0.0])"
   ]
  },
  {
   "cell_type": "code",
   "execution_count": 12,
   "metadata": {},
   "outputs": [
    {
     "data": {
      "image/png": "[encoded data removed]",
      "text/plain": [
       "<Figure size 432x288 with 1 Axes>"
      ]
     },
     "metadata": {},
     "output_type": "display_data"
    }
   ],
   "source": [
    "V_Target = np.linspace(Mu.min(), Mu.max(), num=100)\n",
    "V_Risk = np.zeros(V_Target.shape)\n",
    "for idx, Target_Return.value in enumerate(V_Target):\n",
    "    Opt_Portfolio.solve(solver=cp.OSQP)\n",
    "    V_Risk[idx] = np.sqrt(Risk_Variance.value)\n",
    "fig1 = plt.figure(num=1, facecolor='w')\n",
    "plt.plot(V_Risk, V_Target, 'b-')\n",
    "plt.plot(np.sqrt(np.diagonal(Sigma)), Mu, 'rx')\n",
    "plt.legend(['Frontier', 'Asset'], loc='best', frameon=False)\n",
    "plt.xlabel('Standard deviation (%)')\n",
    "plt.ylabel('Expected return (%)')\n",
    "plt.show()"
   ]
  },
  {
   "cell_type": "markdown",
   "metadata": {},
   "source": [
    "### Minimum mean absolute deviation frontier"
   ]
  },
  {
   "cell_type": "code",
   "execution_count": 5,
   "metadata": {},
   "outputs": [],
   "source": [
    "# Define problem\n",
    "\n",
    "Return_Dev = (R - Mu).values\n",
    "Weight = cp.Variable(N)\n",
    "Deviation = cp.Variable(T)\n",
    "Target_Return = cp.Parameter()\n",
    "Risk_AD = cp.norm(Deviation, 1) / T\n",
    "Portfolio_AD = cp.Problem(cp.Minimize(Risk_AD),\n",
    "                          [Return_Dev @ Weight == Deviation,\n",
    "                           Weight.T @ Mu == Target_Return,\n",
    "                           cp.sum(Weight) == 1.0,\n",
    "                           Weight >= 0.0])"
   ]
  },
  {
   "cell_type": "code",
   "execution_count": 6,
   "metadata": {},
   "outputs": [
    {
     "data": {
      "image/png": "[encoded data removed]",
      "text/plain": [
       "<Figure size 432x288 with 1 Axes>"
      ]
     },
     "metadata": {},
     "output_type": "display_data"
    }
   ],
   "source": [
    "V_Target = np.linspace(Mu.min(), Mu.max(), num=51)\n",
    "V_Risk = np.zeros(V_Target.shape)\n",
    "for idx, Target_Return.value in enumerate(V_Target):\n",
    "    Portfolio_AD.solve(solver=cp.ECOS)\n",
    "    V_Risk[idx] = Risk_AD.value\n",
    "fig1 = plt.figure(num=1, facecolor='w')\n",
    "plt.plot(V_Risk, V_Target, 'b-')\n",
    "plt.plot((R - Mu).abs().mean().values, Mu, 'rx')\n",
    "plt.legend(['Frontier', 'Asset'], loc='best', frameon=False)\n",
    "plt.xlabel('Absolute deviation (%)')\n",
    "plt.ylabel('Expected return (%)')\n",
    "plt.show()"
   ]
  },
  {
   "cell_type": "markdown",
   "metadata": {},
   "source": [
    "### Minimum semi-variance frontier"
   ]
  },
  {
   "cell_type": "code",
   "execution_count": 11,
   "metadata": {},
   "outputs": [],
   "source": [
    "Return_Dev = (R - Mu).values\n",
    "Weight = cp.Variable(N)\n",
    "Deviation = cp.Variable(T)\n",
    "Target_Return = cp.Parameter()\n",
    "Risk_Semivariance = cp.sum_squares(Deviation) / T\n",
    "Portfolio_SV = cp.Problem(cp.Minimize(Risk_Semivariance),\n",
    "                          [Weight.T @ Mu == Target_Return,\n",
    "                           cp.sum(Weight) == 1.0,\n",
    "                           Weight >= 0.0,\n",
    "                           Deviation >= 0.0,\n",
    "                           Return_Dev @ Weight + Deviation >= 0.0])"
   ]
  },
  {
   "cell_type": "code",
   "execution_count": 12,
   "metadata": {},
   "outputs": [
    {
     "data": {
      "image/png": "[encoded data removed]",
      "text/plain": [
       "<Figure size 432x288 with 1 Axes>"
      ]
     },
     "metadata": {},
     "output_type": "display_data"
    }
   ],
   "source": [
    "V_Target = np.linspace(Mu.min(), Mu.max(), num=51)\n",
    "V_Risk = np.zeros(V_Target.shape)\n",
    "for idx, Target_Return.value in enumerate(V_Target):\n",
    "    Portfolio_SV.solve(solver=cp.ECOS)\n",
    "    V_Risk[idx] = np.sqrt(Risk_Semivariance.value)\n",
    "fig2 = plt.figure(num=2, facecolor='w')\n",
    "plt.plot(V_Risk, V_Target, 'b-')\n",
    "plt.plot(np.sqrt(((R[R <= Mu] - Mu) ** 2).sum().values / T), Mu, 'rx')\n",
    "plt.legend(['Frontier', 'Asset'], loc='best', frameon=False)\n",
    "plt.xlabel('Square root of semivariance (%)')\n",
    "plt.ylabel('Expected return (%)')\n",
    "plt.show()"
   ]
  },
  {
   "cell_type": "markdown",
   "metadata": {},
   "source": [
    "### Optimal expected shortfall frontier"
   ]
  },
  {
   "cell_type": "code",
   "execution_count": 13,
   "metadata": {},
   "outputs": [],
   "source": [
    "Return = R.values\n",
    "Weight = cp.Variable(N)\n",
    "Deviation = cp.Variable(T)\n",
    "VaR = cp.Variable()\n",
    "inv_Alpha = cp.Parameter(nonneg=True)\n",
    "Target_Return = cp.Parameter()\n",
    "Risk_ES = cp.sum(Deviation) * inv_Alpha / T - VaR\n",
    "Portfolio_ES = cp.Problem(cp.Minimize(Risk_ES),\n",
    "                          [Weight.T @ Mu == Target_Return,\n",
    "                           cp.sum(Weight) == 1.0,\n",
    "                           Weight >= 0.0,\n",
    "                           Deviation >= 0.0,\n",
    "                           Return @ Weight - VaR + Deviation >= 0.0])"
   ]
  },
  {
   "cell_type": "code",
   "execution_count": 14,
   "metadata": {},
   "outputs": [
    {
     "data": {
      "image/png": "[encoded data removed]",
      "text/plain": [
       "<Figure size 432x288 with 1 Axes>"
      ]
     },
     "metadata": {},
     "output_type": "display_data"
    }
   ],
   "source": [
    "Alpha = 0.2\n",
    "inv_Alpha.value = 1.0 / Alpha\n",
    "V_Target = np.linspace(Mu.min(), Mu.max(), num=51)\n",
    "V_Risk = np.zeros(V_Target.shape)\n",
    "for idx, Target_Return.value in enumerate(V_Target):\n",
    "    Portfolio_ES.solve(solver=cp.ECOS)\n",
    "    V_Risk[idx] = Risk_ES.value\n",
    "fig3 = plt.figure(num=3, facecolor='w')\n",
    "plt.plot(V_Risk, V_Target, 'b-')\n",
    "plt.plot((-R[R <= R.quantile(Alpha)]).mean().values, Mu, 'rx')\n",
    "plt.legend(['Frontier', 'Asset'], loc='best', frameon=False)\n",
    "plt.xlabel('Expected shortfall (%)')\n",
    "plt.ylabel('Expected return (%)')\n",
    "plt.show()"
   ]
  },
  {
   "cell_type": "markdown",
   "metadata": {},
   "source": [
    "## Part 3\n",
    "\n",
    "Compute allocation weights of the following portfolios:\n",
    "\n",
    "  + equal-weight portfolio\n",
    "  + global minimum variance portfolio\n",
    "  + risk parity portfolio\n",
    "  + maximum diversification portfolio\n",
    "\n",
    "They are based on the covariance matrix estimated with the data **from January 1990 to December 2009**."
   ]
  },
  {
   "cell_type": "markdown",
   "metadata": {},
   "source": [
    "### Equal-weight portfolio"
   ]
  },
  {
   "cell_type": "markdown",
   "metadata": {},
   "source": [
    "The equal-weight portfolio assigns an equal weight to each asset. Since the sum of all the weights is 1, this just means that each asset has a weight of\n",
    "\n",
    "\\begin{equation*}\n",
    "w_n = \\frac{1}{N}\n",
    "\\end{equation*}"
   ]
  },
  {
   "cell_type": "code",
   "execution_count": 36,
   "metadata": {},
   "outputs": [
    {
     "data": {
      "text/plain": [
       "array([   0.02,    0.02,    0.02,    0.02,    0.02,    0.02,    0.02,\n",
       "          0.02,    0.02,    0.02,    0.02,    0.02,    0.02,    0.02,\n",
       "          0.02,    0.02,    0.02,    0.02,    0.02,    0.02,    0.02,\n",
       "          0.02,    0.02,    0.02,    0.02,    0.02,    0.02,    0.02,\n",
       "          0.02,    0.02,    0.02,    0.02,    0.02,    0.02,    0.02,\n",
       "          0.02,    0.02,    0.02,    0.02,    0.02,    0.02,    0.02,\n",
       "          0.02,    0.02,    0.02,    0.02,    0.02,    0.02,    0.02])"
      ]
     },
     "execution_count": 36,
     "metadata": {},
     "output_type": "execute_result"
    }
   ],
   "source": [
    "# Equal-weight portfolio weights\n",
    "Weight_1N = np.tile(1.0/Mu.shape[0], Mu.shape[0])\n",
    "Weight_1N"
   ]
  },
  {
   "cell_type": "markdown",
   "metadata": {},
   "source": [
    "### Global minimum variance portfolio"
   ]
  },
  {
   "cell_type": "code",
   "execution_count": 40,
   "metadata": {},
   "outputs": [
    {
     "data": {
      "text/plain": [
       "array([   0.08,    0.05,    0.01,   -0.02,   -0.01,    0.02,   -0.03,\n",
       "          0.14,    0.18,   -0.07,   -0.06,    0.05,    0.08,   -0.15,\n",
       "         -0.06,   -0.04,   -0.08,   -0.12,   -0.10,    0.04,   -0.11,\n",
       "         -0.06,   -0.05,   -0.13,   -0.02,    0.13,    0.02,    0.05,\n",
       "         -0.01,    0.18,    0.33,    0.08,    0.03,   -0.08,    0.09,\n",
       "         -0.10,    0.09,   -0.04,    0.23,    0.10,    0.15,    0.06,\n",
       "          0.25,    0.03,   -0.10,   -0.15,    0.06,    0.01,    0.02])"
      ]
     },
     "execution_count": 40,
     "metadata": {},
     "output_type": "execute_result"
    }
   ],
   "source": [
    "# Some of these are negative, which is either fine because short selling is allowed or a huge problem because it's not\n",
    "# Even if it is, the sheer number that it says to sell short seems excessive\n",
    "# So I suspect that something is wrong here\n",
    "\n",
    "iota = np.ones(Mu.shape)\n",
    "inv_Sigma = la.inv(Sigma)\n",
    "\n",
    "Weight_MV = inv_Sigma @ iota / (iota @ inv_Sigma @ iota)\n",
    "Weight_MV"
   ]
  },
  {
   "cell_type": "markdown",
   "metadata": {},
   "source": [
    "### Risk parity portfolio"
   ]
  },
  {
   "cell_type": "code",
   "execution_count": 38,
   "metadata": {},
   "outputs": [
    {
     "data": {
      "text/plain": [
       "array([   0.12,    0.20,    0.17,   -0.34,   -0.16,    0.16,   -0.16,\n",
       "          0.44,    0.29,   -0.23,   -0.24,    0.17,    0.15,   -0.43,\n",
       "         -0.28,   -0.12,   -0.15,   -0.24,   -0.22,    0.22,   -0.25,\n",
       "         -0.15,   -0.19,   -0.25,   -0.16,    0.22,    0.06,    0.20,\n",
       "         -0.06,    0.30,    0.28,    0.20,    0.13,   -0.55,    0.25,\n",
       "         -0.37,    0.26,   -0.28,    0.53,    0.25,    0.31,    0.26,\n",
       "          0.30,    0.25,   -0.39,   -0.35,    0.18,    0.38,    0.28])"
      ]
     },
     "execution_count": 38,
     "metadata": {},
     "output_type": "execute_result"
    }
   ],
   "source": [
    "F = lambda v, Sigma: np.hstack((Sigma @ v[:-1] - v[-1]/v[:-1], v[:-1].sum() - 1.0))\n",
    "Weight_RP = opt.root(F, np.hstack((Weight_1N, 0.0)), args=Sigma).x[:-1]\n",
    "Weight_RP"
   ]
  },
  {
   "cell_type": "markdown",
   "metadata": {},
   "source": [
    "### Maximum diversification portfolio"
   ]
  },
  {
   "cell_type": "code",
   "execution_count": 39,
   "metadata": {},
   "outputs": [
    {
     "data": {
      "text/plain": [
       "array([   0.18,   -0.14,    0.14,    0.11,    0.16,    0.13,   -0.02,\n",
       "          0.11,    0.05,   -0.03,    0.10,   -0.24,    0.13,   -0.28,\n",
       "         -0.23,    0.12,   -0.16,   -0.18,   -0.07,    0.12,   -0.48,\n",
       "         -0.02,    0.00,   -0.13,    0.07,    0.24,    0.17,    0.02,\n",
       "          0.16,    0.12,    0.22,    0.19,    0.09,   -0.57,    0.20,\n",
       "          0.07,    0.16,    0.25,    0.17,    0.17,    0.06,   -0.58,\n",
       "          0.33,   -0.07,    0.01,   -0.01,    0.16,   -0.12,    0.09])"
      ]
     },
     "execution_count": 39,
     "metadata": {},
     "output_type": "execute_result"
    }
   ],
   "source": [
    "# Compute sample standard deviation of the returns\n",
    "Stdev = R.std() * (T-1)/T\n",
    "\n",
    "Weight_MD = inv_Sigma @ Stdev / (iota @ inv_Sigma @ Stdev)\n",
    "Weight_MD"
   ]
  },
  {
   "cell_type": "markdown",
   "metadata": {},
   "source": [
    "## Part 4\n",
    "\n",
    "Compare the performance of the above portfolios in the buy-and-hold strategy **from January 2010 to December 2019**\n",
    "\n",
    "For this, I made a new file `returns_out_of_sample.csv` for the 2010 to 2019 period."
   ]
  },
  {
   "cell_type": "code",
   "execution_count": 43,
   "metadata": {},
   "outputs": [
    {
     "data": {
      "text/html": [
       "<div>\n",
       "<style scoped>\n",
       "    .dataframe tbody tr th:only-of-type {\n",
       "        vertical-align: middle;\n",
       "    }\n",
       "\n",
       "    .dataframe tbody tr th {\n",
       "        vertical-align: top;\n",
       "    }\n",
       "\n",
       "    .dataframe thead th {\n",
       "        text-align: right;\n",
       "    }\n",
       "</style>\n",
       "<table border=\"1\" class=\"dataframe\">\n",
       "  <thead>\n",
       "    <tr style=\"text-align: right;\">\n",
       "      <th></th>\n",
       "      <th>Agric</th>\n",
       "      <th>Food</th>\n",
       "      <th>Soda</th>\n",
       "      <th>Beer</th>\n",
       "      <th>Smoke</th>\n",
       "      <th>Toys</th>\n",
       "      <th>Fun</th>\n",
       "      <th>Books</th>\n",
       "      <th>Hshld</th>\n",
       "      <th>Clths</th>\n",
       "      <th>...</th>\n",
       "      <th>Boxes</th>\n",
       "      <th>Trans</th>\n",
       "      <th>Whlsl</th>\n",
       "      <th>Rtail</th>\n",
       "      <th>Meals</th>\n",
       "      <th>Banks</th>\n",
       "      <th>Insur</th>\n",
       "      <th>RlEst</th>\n",
       "      <th>Fin</th>\n",
       "      <th>Other</th>\n",
       "    </tr>\n",
       "  </thead>\n",
       "  <tbody>\n",
       "    <tr>\n",
       "      <th>2010-01-31</th>\n",
       "      <td>-6.64</td>\n",
       "      <td>0.60</td>\n",
       "      <td>-2.42</td>\n",
       "      <td>-3.70</td>\n",
       "      <td>-3.35</td>\n",
       "      <td>-2.32</td>\n",
       "      <td>2.34</td>\n",
       "      <td>3.55</td>\n",
       "      <td>0.85</td>\n",
       "      <td>-3.11</td>\n",
       "      <td>...</td>\n",
       "      <td>-8.64</td>\n",
       "      <td>-4.04</td>\n",
       "      <td>-2.55</td>\n",
       "      <td>-1.92</td>\n",
       "      <td>-0.98</td>\n",
       "      <td>0.44</td>\n",
       "      <td>0.73</td>\n",
       "      <td>-5.02</td>\n",
       "      <td>-7.99</td>\n",
       "      <td>3.54</td>\n",
       "    </tr>\n",
       "    <tr>\n",
       "      <th>2010-02-28</th>\n",
       "      <td>-6.60</td>\n",
       "      <td>3.26</td>\n",
       "      <td>13.70</td>\n",
       "      <td>0.25</td>\n",
       "      <td>4.43</td>\n",
       "      <td>14.52</td>\n",
       "      <td>3.15</td>\n",
       "      <td>-3.01</td>\n",
       "      <td>3.69</td>\n",
       "      <td>6.07</td>\n",
       "      <td>...</td>\n",
       "      <td>7.90</td>\n",
       "      <td>7.25</td>\n",
       "      <td>5.89</td>\n",
       "      <td>4.32</td>\n",
       "      <td>4.50</td>\n",
       "      <td>1.81</td>\n",
       "      <td>3.51</td>\n",
       "      <td>7.32</td>\n",
       "      <td>3.91</td>\n",
       "      <td>1.06</td>\n",
       "    </tr>\n",
       "    <tr>\n",
       "      <th>2010-03-31</th>\n",
       "      <td>2.04</td>\n",
       "      <td>4.46</td>\n",
       "      <td>8.20</td>\n",
       "      <td>6.11</td>\n",
       "      <td>6.12</td>\n",
       "      <td>6.57</td>\n",
       "      <td>14.13</td>\n",
       "      <td>5.47</td>\n",
       "      <td>2.13</td>\n",
       "      <td>11.39</td>\n",
       "      <td>...</td>\n",
       "      <td>6.06</td>\n",
       "      <td>8.11</td>\n",
       "      <td>5.99</td>\n",
       "      <td>6.14</td>\n",
       "      <td>8.27</td>\n",
       "      <td>8.46</td>\n",
       "      <td>8.10</td>\n",
       "      <td>14.73</td>\n",
       "      <td>6.96</td>\n",
       "      <td>9.82</td>\n",
       "    </tr>\n",
       "    <tr>\n",
       "      <th>2010-04-30</th>\n",
       "      <td>-10.17</td>\n",
       "      <td>0.18</td>\n",
       "      <td>-1.73</td>\n",
       "      <td>-1.76</td>\n",
       "      <td>-2.51</td>\n",
       "      <td>-0.90</td>\n",
       "      <td>15.13</td>\n",
       "      <td>2.31</td>\n",
       "      <td>1.21</td>\n",
       "      <td>4.23</td>\n",
       "      <td>...</td>\n",
       "      <td>1.84</td>\n",
       "      <td>3.82</td>\n",
       "      <td>3.20</td>\n",
       "      <td>1.85</td>\n",
       "      <td>7.31</td>\n",
       "      <td>3.05</td>\n",
       "      <td>-1.67</td>\n",
       "      <td>6.05</td>\n",
       "      <td>-1.45</td>\n",
       "      <td>3.81</td>\n",
       "    </tr>\n",
       "    <tr>\n",
       "      <th>2010-05-31</th>\n",
       "      <td>-18.19</td>\n",
       "      <td>-3.86</td>\n",
       "      <td>-0.22</td>\n",
       "      <td>-3.88</td>\n",
       "      <td>-7.69</td>\n",
       "      <td>-5.69</td>\n",
       "      <td>-7.47</td>\n",
       "      <td>-10.35</td>\n",
       "      <td>-4.35</td>\n",
       "      <td>-5.67</td>\n",
       "      <td>...</td>\n",
       "      <td>-8.49</td>\n",
       "      <td>-5.98</td>\n",
       "      <td>-4.01</td>\n",
       "      <td>-5.83</td>\n",
       "      <td>-4.76</td>\n",
       "      <td>-11.00</td>\n",
       "      <td>-5.88</td>\n",
       "      <td>-11.24</td>\n",
       "      <td>-8.15</td>\n",
       "      <td>-10.95</td>\n",
       "    </tr>\n",
       "  </tbody>\n",
       "</table>\n",
       "<p>5 rows × 49 columns</p>\n",
       "</div>"
      ],
      "text/plain": [
       "            Agric  Food   Soda  Beer  Smoke   Toys    Fun  Books  Hshld  \\\n",
       "2010-01-31  -6.64  0.60  -2.42 -3.70  -3.35  -2.32   2.34   3.55   0.85   \n",
       "2010-02-28  -6.60  3.26  13.70  0.25   4.43  14.52   3.15  -3.01   3.69   \n",
       "2010-03-31   2.04  4.46   8.20  6.11   6.12   6.57  14.13   5.47   2.13   \n",
       "2010-04-30 -10.17  0.18  -1.73 -1.76  -2.51  -0.90  15.13   2.31   1.21   \n",
       "2010-05-31 -18.19 -3.86  -0.22 -3.88  -7.69  -5.69  -7.47 -10.35  -4.35   \n",
       "\n",
       "            Clths  ...  Boxes  Trans  Whlsl  Rtail  Meals  Banks  Insur  \\\n",
       "2010-01-31  -3.11  ...  -8.64  -4.04  -2.55  -1.92  -0.98   0.44   0.73   \n",
       "2010-02-28   6.07  ...   7.90   7.25   5.89   4.32   4.50   1.81   3.51   \n",
       "2010-03-31  11.39  ...   6.06   8.11   5.99   6.14   8.27   8.46   8.10   \n",
       "2010-04-30   4.23  ...   1.84   3.82   3.20   1.85   7.31   3.05  -1.67   \n",
       "2010-05-31  -5.67  ...  -8.49  -5.98  -4.01  -5.83  -4.76 -11.00  -5.88   \n",
       "\n",
       "            RlEst   Fin  Other  \n",
       "2010-01-31  -5.02 -7.99   3.54  \n",
       "2010-02-28   7.32  3.91   1.06  \n",
       "2010-03-31  14.73  6.96   9.82  \n",
       "2010-04-30   6.05 -1.45   3.81  \n",
       "2010-05-31 -11.24 -8.15 -10.95  \n",
       "\n",
       "[5 rows x 49 columns]"
      ]
     },
     "execution_count": 43,
     "metadata": {},
     "output_type": "execute_result"
    }
   ],
   "source": [
    "# Read the out of sample data as R_pred\n",
    "R_pred = pd.read_csv('returns_out_of_sample.csv',index_col=0)\n",
    "\n",
    "R_pred.index = pd.date_range('2010-01-01', periods=R_pred.shape[0], freq='M')\n",
    "\n",
    "R_pred.head()"
   ]
  },
  {
   "cell_type": "code",
   "execution_count": 54,
   "metadata": {},
   "outputs": [
    {
     "name": "stdout",
     "output_type": "stream",
     "text": [
      "Average returns for the equal-weight portfolio:  1.067\n",
      "Average returns for the global minimum variance portfolio:  0.739\n",
      "Average returns for the risk parity portfolio:  -0.112\n",
      "Average returns for the maximum diversification portfolio:  -0.112\n"
     ]
    }
   ],
   "source": [
    "# These next two cells are probably not the most efficient way to do things, but do get the job down\n",
    "\n",
    "# Calculate average returns for the equal-weight portfolio\n",
    "equal_wt = np.sum(Weight_1N*R_pred,axis=1).mean()\n",
    "print('Average returns for the equal-weight portfolio: ',np.round(equal_wt,3))\n",
    "\n",
    "# Calculate average returns for the global minimum variance portfolio\n",
    "min_var = np.sum(Weight_MV*R_pred,axis=1).mean()\n",
    "print('Average returns for the global minimum variance portfolio: ',np.round(min_var,3))\n",
    "\n",
    "# Calculate average returns for the risk parity portfolio\n",
    "risk_par = np.sum(Weight_RP*R_pred,axis=1).mean()\n",
    "print('Average returns for the risk parity portfolio: ',np.round(risk_par,3))\n",
    "\n",
    "# Calculate average returns for the maximum diversification portfolio\n",
    "max_div = np.sum(Weight_MD*R_pred,axis=1).mean()\n",
    "print('Average returns for the maximum diversification portfolio: ',np.round(risk_par,3))"
   ]
  },
  {
   "cell_type": "code",
   "execution_count": 60,
   "metadata": {},
   "outputs": [
    {
     "data": {
      "text/plain": [
       "<matplotlib.legend.Legend at 0x29aa7153208>"
      ]
     },
     "execution_count": 60,
     "metadata": {},
     "output_type": "execute_result"
    },
    {
     "data": {
      "image/png": "[encoded data removed]",
      "text/plain": [
       "<Figure size 432x288 with 1 Axes>"
      ]
     },
     "metadata": {
      "needs_background": "light"
     },
     "output_type": "display_data"
    }
   ],
   "source": [
    "# Convert returns to gross growth rates\n",
    "equal_wt_return = np.sum(Weight_1N*R_pred,axis=1)/100+1\n",
    "min_var_return = np.sum(Weight_MV*R_pred,axis=1)/100+1\n",
    "risk_par_return = np.sum(Weight_RP*R_pred,axis=1)/100+1\n",
    "max_div_return = np.sum(Weight_MD*R_pred,axis=1)/100+1\n",
    "\n",
    "# Calculate the cumulative products\n",
    "plt.plot(np.cumprod(equal_wt_return),label='Equal-weight portfolio')\n",
    "plt.plot(np.cumprod(min_var_return),label='Global minimum variance portfolio')\n",
    "plt.plot(np.cumprod(risk_par_return),label='Risk parity portfolio')\n",
    "plt.plot(np.cumprod(max_div_return),label='Maximum diversification portfolio')\n",
    "plt.legend()"
   ]
  },
  {
   "cell_type": "code",
   "execution_count": null,
   "metadata": {},
   "outputs": [],
   "source": []
  }
 ],
 "metadata": {
  "kernelspec": {
   "display_name": "Python 3",
   "language": "python",
   "name": "python3"
  },
  "language_info": {
   "codemirror_mode": {
    "name": "ipython",
    "version": 3
   },
   "file_extension": ".py",
   "mimetype": "text/x-python",
   "name": "python",
   "nbconvert_exporter": "python",
   "pygments_lexer": "ipython3",
   "version": "3.7.6"
  }
 },
 "nbformat": 4,
 "nbformat_minor": 4
}

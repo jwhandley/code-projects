{
 "cells": [
  {
   "cell_type": "code",
   "execution_count": 10,
   "metadata": {},
   "outputs": [
    {
     "data": {
      "text/html": [
       "<div>\n",
       "<style scoped>\n",
       "    .dataframe tbody tr th:only-of-type {\n",
       "        vertical-align: middle;\n",
       "    }\n",
       "\n",
       "    .dataframe tbody tr th {\n",
       "        vertical-align: top;\n",
       "    }\n",
       "\n",
       "    .dataframe thead th {\n",
       "        text-align: right;\n",
       "    }\n",
       "</style>\n",
       "<table border=\"1\" class=\"dataframe\">\n",
       "  <thead>\n",
       "    <tr style=\"text-align: right;\">\n",
       "      <th></th>\n",
       "      <th>rowid</th>\n",
       "      <th>date</th>\n",
       "      <th>voteno</th>\n",
       "      <th>Bill</th>\n",
       "      <th>mp_id</th>\n",
       "      <th>vote</th>\n",
       "    </tr>\n",
       "  </thead>\n",
       "  <tbody>\n",
       "    <tr>\n",
       "      <th>1</th>\n",
       "      <td>32077</td>\n",
       "      <td>11/03/2015</td>\n",
       "      <td>173</td>\n",
       "      <td>Deferred Division - Public Health</td>\n",
       "      <td>1</td>\n",
       "      <td>1.0</td>\n",
       "    </tr>\n",
       "    <tr>\n",
       "      <th>2</th>\n",
       "      <td>32076</td>\n",
       "      <td>10/03/2015</td>\n",
       "      <td>172</td>\n",
       "      <td>Deregulation Bill (Programme) (No.3) - Clause ...</td>\n",
       "      <td>1</td>\n",
       "      <td>1.0</td>\n",
       "    </tr>\n",
       "    <tr>\n",
       "      <th>7</th>\n",
       "      <td>32068</td>\n",
       "      <td>04/03/2015</td>\n",
       "      <td>167</td>\n",
       "      <td>Opposition Day - [Un-allotted Half Day] - Futu...</td>\n",
       "      <td>1</td>\n",
       "      <td>1.0</td>\n",
       "    </tr>\n",
       "    <tr>\n",
       "      <th>11</th>\n",
       "      <td>32058</td>\n",
       "      <td>25/02/2015</td>\n",
       "      <td>163</td>\n",
       "      <td>Opposition Day - [18th Allotted Day] - Members...</td>\n",
       "      <td>1</td>\n",
       "      <td>1.0</td>\n",
       "    </tr>\n",
       "    <tr>\n",
       "      <th>12</th>\n",
       "      <td>32057</td>\n",
       "      <td>25/02/2015</td>\n",
       "      <td>162</td>\n",
       "      <td>Opposition Day - [18th Allotted Day] - Bankers...</td>\n",
       "      <td>1</td>\n",
       "      <td>1.0</td>\n",
       "    </tr>\n",
       "  </tbody>\n",
       "</table>\n",
       "</div>"
      ],
      "text/plain": [
       "    rowid        date  voteno  \\\n",
       "1   32077  11/03/2015     173   \n",
       "2   32076  10/03/2015     172   \n",
       "7   32068  04/03/2015     167   \n",
       "11  32058  25/02/2015     163   \n",
       "12  32057  25/02/2015     162   \n",
       "\n",
       "                                                 Bill  mp_id  vote  \n",
       "1                   Deferred Division - Public Health      1   1.0  \n",
       "2   Deregulation Bill (Programme) (No.3) - Clause ...      1   1.0  \n",
       "7   Opposition Day - [Un-allotted Half Day] - Futu...      1   1.0  \n",
       "11  Opposition Day - [18th Allotted Day] - Members...      1   1.0  \n",
       "12  Opposition Day - [18th Allotted Day] - Bankers...      1   1.0  "
      ]
     },
     "execution_count": 10,
     "metadata": {},
     "output_type": "execute_result"
    }
   ],
   "source": [
    "%matplotlib inline\n",
    "from matplotlib import pyplot as plt\n",
    "import pystan\n",
    "import pandas as pd\n",
    "import numpy as np\n",
    "\n",
    "df = pd.read_csv('hoc_divisions_long.csv')\n",
    "\n",
    "df['mp_id'] = df['mp_id'].astype('category').cat.codes\n",
    "df['voteno'] = df['voteno'].astype('category').cat.codes\n",
    "df['vote'].replace([-9,1,2,3,4,5],[np.nan,1,1,np.nan,0,0],inplace=True)\n",
    "df.dropna(inplace=True)\n",
    "\n",
    "df.head()"
   ]
  },
  {
   "cell_type": "code",
   "execution_count": 11,
   "metadata": {},
   "outputs": [
    {
     "name": "stderr",
     "output_type": "stream",
     "text": [
      "INFO:pystan:COMPILING THE C++ CODE FOR MODEL anon_model_7854d338a10af81ded95cc0c2a4d46cc NOW.\n"
     ]
    }
   ],
   "source": [
    "stan_code = '''\n",
    "    data {\n",
    "        int<lower=1> J; // Number of MPs\n",
    "        int<lower=1> K; // Number of votes\n",
    "        int<lower=1> N; // Number of observations\n",
    "        int<lower=1,upper=J> jj[N]; // MP for observation n\n",
    "        int<lower=1,upper=K> kk[N]; // Vote for observation n\n",
    "        int<lower=0,upper=1> y[N]; // Aye or No vote \n",
    "    }\n",
    "    parameters {\n",
    "        real delta; // Mean MP aye likelihood\n",
    "        real alpha[J]; // Ideology of MP j\n",
    "        real beta[K]; // Ideology of vote k\n",
    "    }\n",
    "    model {\n",
    "        alpha ~ std_normal();\n",
    "        beta ~ std_normal();\n",
    "        delta ~ normal(0.5,1);\n",
    "        \n",
    "        for (n in 1:N)\n",
    "            y[n] ~ bernoulli_logit((alpha[jj[n]] - beta[kk[n]])^2 + delta);\n",
    "    }\n",
    "'''\n",
    "\n",
    "sm = pystan.StanModel(model_code=stan_code)"
   ]
  },
  {
   "cell_type": "code",
   "execution_count": 12,
   "metadata": {},
   "outputs": [
    {
     "ename": "RuntimeError",
     "evalue": "Exception: variable does not exist; processing stage=data initialization; variable name=jj; base type=int  (in 'unknown file name' at line 6)\n",
     "output_type": "error",
     "traceback": [
      "\u001b[1;31m---------------------------------------------------------------------------\u001b[0m",
      "\u001b[1;31mRuntimeError\u001b[0m                              Traceback (most recent call last)",
      "\u001b[1;32m<ipython-input-12-f0817b1b2806>\u001b[0m in \u001b[0;36m<module>\u001b[1;34m\u001b[0m\n\u001b[0;32m      8\u001b[0m }\n\u001b[0;32m      9\u001b[0m \u001b[1;33m\u001b[0m\u001b[0m\n\u001b[1;32m---> 10\u001b[1;33m \u001b[0mfit\u001b[0m \u001b[1;33m=\u001b[0m \u001b[0msm\u001b[0m\u001b[1;33m.\u001b[0m\u001b[0msampling\u001b[0m\u001b[1;33m(\u001b[0m\u001b[0mdata\u001b[0m\u001b[1;33m,\u001b[0m\u001b[0miter\u001b[0m\u001b[1;33m=\u001b[0m\u001b[1;36m200\u001b[0m\u001b[1;33m,\u001b[0m\u001b[0mchains\u001b[0m\u001b[1;33m=\u001b[0m\u001b[1;36m2\u001b[0m\u001b[1;33m)\u001b[0m\u001b[1;33m\u001b[0m\u001b[1;33m\u001b[0m\u001b[0m\n\u001b[0m\u001b[0;32m     11\u001b[0m \u001b[0mprint\u001b[0m\u001b[1;33m(\u001b[0m\u001b[0mfit\u001b[0m\u001b[1;33m[\u001b[0m\u001b[1;36m0\u001b[0m\u001b[1;33m:\u001b[0m\u001b[1;36m10\u001b[0m\u001b[1;33m]\u001b[0m\u001b[1;33m)\u001b[0m\u001b[1;33m\u001b[0m\u001b[1;33m\u001b[0m\u001b[0m\n",
      "\u001b[1;32m~\\anaconda3\\lib\\site-packages\\pystan\\model.py\u001b[0m in \u001b[0;36msampling\u001b[1;34m(self, data, pars, chains, iter, warmup, thin, seed, init, sample_file, diagnostic_file, verbose, algorithm, control, n_jobs, **kwargs)\u001b[0m\n\u001b[0;32m    756\u001b[0m                 \u001b[1;32mraise\u001b[0m \u001b[0mValueError\u001b[0m\u001b[1;33m(\u001b[0m\u001b[1;34m\"Warmup samples must be greater than 0 when adaptation is enabled (`adapt_engaged=True`)\"\u001b[0m\u001b[1;33m)\u001b[0m\u001b[1;33m\u001b[0m\u001b[1;33m\u001b[0m\u001b[0m\n\u001b[0;32m    757\u001b[0m         \u001b[0mseed\u001b[0m \u001b[1;33m=\u001b[0m \u001b[0mpystan\u001b[0m\u001b[1;33m.\u001b[0m\u001b[0mmisc\u001b[0m\u001b[1;33m.\u001b[0m\u001b[0m_check_seed\u001b[0m\u001b[1;33m(\u001b[0m\u001b[0mseed\u001b[0m\u001b[1;33m)\u001b[0m\u001b[1;33m\u001b[0m\u001b[1;33m\u001b[0m\u001b[0m\n\u001b[1;32m--> 758\u001b[1;33m         \u001b[0mfit\u001b[0m \u001b[1;33m=\u001b[0m \u001b[0mself\u001b[0m\u001b[1;33m.\u001b[0m\u001b[0mfit_class\u001b[0m\u001b[1;33m(\u001b[0m\u001b[0mdata\u001b[0m\u001b[1;33m,\u001b[0m \u001b[0mseed\u001b[0m\u001b[1;33m)\u001b[0m\u001b[1;33m\u001b[0m\u001b[1;33m\u001b[0m\u001b[0m\n\u001b[0m\u001b[0;32m    759\u001b[0m \u001b[1;33m\u001b[0m\u001b[0m\n\u001b[0;32m    760\u001b[0m         \u001b[0mm_pars\u001b[0m \u001b[1;33m=\u001b[0m \u001b[0mfit\u001b[0m\u001b[1;33m.\u001b[0m\u001b[0m_get_param_names\u001b[0m\u001b[1;33m(\u001b[0m\u001b[1;33m)\u001b[0m\u001b[1;33m\u001b[0m\u001b[1;33m\u001b[0m\u001b[0m\n",
      "\u001b[1;32mstanfit4anon_model_7854d338a10af81ded95cc0c2a4d46cc_2180053764554474285.pyx\u001b[0m in \u001b[0;36mstanfit4anon_model_7854d338a10af81ded95cc0c2a4d46cc_2180053764554474285.StanFit4Model.__cinit__\u001b[1;34m()\u001b[0m\n",
      "\u001b[1;31mRuntimeError\u001b[0m: Exception: variable does not exist; processing stage=data initialization; variable name=jj; base type=int  (in 'unknown file name' at line 6)\n"
     ]
    }
   ],
   "source": [
    "stan_data = {\n",
    "    'J': len(df.mp_id.unique()),\n",
    "    'K': len(df.voteno.unique()),\n",
    "    'N': len(df.vote),\n",
    "    'jj': df.mp_id,\n",
    "    'kk': df.voteno,\n",
    "    'y': df.vote\n",
    "}\n",
    "\n",
    "fit = sm.sampling(data,iter=200,chains=2)\n",
    "print(fit[0:10])"
   ]
  },
  {
   "cell_type": "code",
   "execution_count": null,
   "metadata": {},
   "outputs": [],
   "source": []
  }
 ],
 "metadata": {
  "kernelspec": {
   "display_name": "Python 3",
   "language": "python",
   "name": "python3"
  },
  "language_info": {
   "codemirror_mode": {
    "name": "ipython",
    "version": 3
   },
   "file_extension": ".py",
   "mimetype": "text/x-python",
   "name": "python",
   "nbconvert_exporter": "python",
   "pygments_lexer": "ipython3",
   "version": "3.8.3"
  }
 },
 "nbformat": 4,
 "nbformat_minor": 4
}
